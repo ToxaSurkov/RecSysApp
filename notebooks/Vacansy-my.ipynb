{
 "cells": [
  {
   "cell_type": "code",
   "execution_count": 1,
   "id": "70fabef0-6461-4cfe-b800-7664086e6b21",
   "metadata": {},
   "outputs": [
    {
     "name": "stderr",
     "output_type": "stream",
     "text": [
      "/Users/dl/@DmitryRyumin/Python/envs/RecSys/lib/python3.12/site-packages/sentence_transformers/cross_encoder/CrossEncoder.py:13: TqdmExperimentalWarning: Using `tqdm.autonotebook.tqdm` in notebook mode. Use `tqdm.tqdm` instead to force console mode (e.g. in jupyter console)\n",
      "  from tqdm.autonotebook import tqdm, trange\n"
     ]
    },
    {
     "name": "stdout",
     "output_type": "stream",
     "text": [
      "Вакансии: (164065, 4)\n",
      "Эмбеддинги: torch.Size([164065, 768])\n",
      "Время выполнения: 0.650061 секунд\n"
     ]
    }
   ],
   "source": [
    "import time\n",
    "import polars as pl\n",
    "import torch\n",
    "from typing import Optional\n",
    "from dataclasses import dataclass\n",
    "from sentence_transformers import SentenceTransformer\n",
    "from safetensors.torch import load_file\n",
    "from contextlib import ContextDecorator\n",
    "import os\n",
    "\n",
    "class Timer(ContextDecorator):\n",
    "    \"\"\"Контекстный менеджер для замера времени выполнения кода.\"\"\"\n",
    "    def __enter__(self):\n",
    "        self.start = time.time()\n",
    "        return self\n",
    "\n",
    "    def __exit__(self, *args):\n",
    "        self.end = time.time()\n",
    "        print(f\"Время выполнения: {self.end - self.start:.6f} секунд\")\n",
    "\n",
    "@dataclass\n",
    "class SkillsExtractor:\n",
    "    vacancy_path: str\n",
    "    embeddings_path: str\n",
    "    model_path: Optional[str]\n",
    "    device: str = \"cpu\"\n",
    "    vacancies: Optional[pl.DataFrame] = None\n",
    "    embeddings: Optional[torch.Tensor] = None\n",
    "\n",
    "    def __post_init__(self):\n",
    "        self.initialize_model()\n",
    "\n",
    "    def initialize_model(self):\n",
    "        \"\"\"Инициализация модели SentenceTransformer.\"\"\"\n",
    "        self.model = SentenceTransformer(\n",
    "            model_name_or_path=self.model_path,\n",
    "            device=self.device,\n",
    "            local_files_only=True,\n",
    "            trust_remote_code=True\n",
    "        )\n",
    "\n",
    "    def load_vacancies_and_embeddings(self):\n",
    "        \"\"\"Загрузка вакансий и эмбеддингов с проверкой существования файлов.\"\"\"\n",
    "        self.vacancies = pl.read_parquet(self.vacancy_path)\n",
    "        self.embeddings = load_file(self.embeddings_path)[\"embeddings\"]\n",
    "\n",
    "    def show_data_info(self):\n",
    "        \"\"\"Показать информацию о вакансиях и эмбеддингах.\"\"\"\n",
    "        if self.vacancies is not None:\n",
    "            print(f\"Вакансии: {self.vacancies.shape}\")\n",
    "        else:\n",
    "            print(\"Вакансии не загружены.\")\n",
    "\n",
    "        if self.embeddings is not None:\n",
    "            print(f\"Эмбеддинги: {self.embeddings.shape}\")\n",
    "        else:\n",
    "            print(\"Эмбеддинги не загружены.\")\n",
    "\n",
    "# Пример использования класса с замером времени выполнения\n",
    "with Timer():\n",
    "    skills_extractor = SkillsExtractor(\n",
    "        model_path = \"/Users/dl/GitHub/RecSysApp/models/LaBSE-en-ru\",\n",
    "        vacancy_path =\"/Users/dl/GitHub/RecSysApp/data/Вакансии.parquet\",\n",
    "        embeddings_path = \"/Users/dl/GitHub/RecSysApp/data/Вакансии_эмбеддинги_LaBSE-en-ru.safetensors\",\n",
    "        device = \"cpu\"\n",
    "    )\n",
    "    skills_extractor.load_vacancies_and_embeddings()\n",
    "    skills_extractor.show_data_info()"
   ]
  },
  {
   "cell_type": "code",
   "execution_count": 2,
   "id": "aad6eade-ca48-4929-9a27-266065bdf278",
   "metadata": {},
   "outputs": [
    {
     "data": {
      "text/html": [
       "<div><style>\n",
       ".dataframe > thead > tr,\n",
       ".dataframe > tbody > tr {\n",
       "  text-align: right;\n",
       "  white-space: pre-wrap;\n",
       "}\n",
       "</style>\n",
       "<small>shape: (164_065, 4)</small><table border=\"1\" class=\"dataframe\"><thead><tr><th>name</th><th>id</th><th>parent</th><th>key_skills</th></tr><tr><td>str</td><td>i64</td><td>str</td><td>str</td></tr></thead><tbody><tr><td>&quot;Сетевой инженер&quot;</td><td>103639272</td><td>&quot;Сетевой инженер&quot;</td><td>&quot;Cisco; MikroTik; TCP/IP; Aster…</td></tr><tr><td>&quot;Сетевой инженер, ЦОД&quot;</td><td>104725303</td><td>&quot;Сетевой инженер&quot;</td><td>&quot;Linux; Huawei; Администрирован…</td></tr><tr><td>&quot;Сетевой инженер&quot;</td><td>105975500</td><td>&quot;Сетевой инженер&quot;</td><td>&quot;Linux; BGP; OSPF; Администриро…</td></tr><tr><td>&quot;Администратор баз данных&quot;</td><td>105833147</td><td>&quot;Сетевой инженер&quot;</td><td>&quot;PostgreSQL; Vertica; Greenplum…</td></tr><tr><td>&quot;Ведущий сетевой инженер&quot;</td><td>105792162</td><td>&quot;Сетевой инженер&quot;</td><td>&quot;Сетевой инженер; ВОЛС; СКС; Се…</td></tr><tr><td>&hellip;</td><td>&hellip;</td><td>&hellip;</td><td>&hellip;</td></tr><tr><td>&quot;Аналитик DWH&quot;</td><td>104588058</td><td>&quot;Аналитик&quot;</td><td>&quot;SQL; Моделирование бизнес проц…</td></tr><tr><td>&quot;Аналитик мерчандайзинга&quot;</td><td>104881760</td><td>&quot;Аналитик&quot;</td><td>&quot;Аналитические исследования; MS…</td></tr><tr><td>&quot;Системный аналитик/ System ana…</td><td>96641028</td><td>&quot;Аналитик&quot;</td><td>&quot;SQL; Системный анализ; REST; A…</td></tr><tr><td>&quot;Аналитик&quot;</td><td>104346742</td><td>&quot;Аналитик&quot;</td><td>&quot;Power BI; Работа с большим объ…</td></tr><tr><td>&quot;Старший аналитик Optimacros&quot;</td><td>104663550</td><td>&quot;Аналитик&quot;</td><td>&quot;Optimacros&quot;</td></tr></tbody></table></div>"
      ],
      "text/plain": [
       "shape: (164_065, 4)\n",
       "┌─────────────────────────────────┬───────────┬─────────────────┬─────────────────────────────────┐\n",
       "│ name                            ┆ id        ┆ parent          ┆ key_skills                      │\n",
       "│ ---                             ┆ ---       ┆ ---             ┆ ---                             │\n",
       "│ str                             ┆ i64       ┆ str             ┆ str                             │\n",
       "╞═════════════════════════════════╪═══════════╪═════════════════╪═════════════════════════════════╡\n",
       "│ Сетевой инженер                 ┆ 103639272 ┆ Сетевой инженер ┆ Cisco; MikroTik; TCP/IP; Aster… │\n",
       "│ Сетевой инженер, ЦОД            ┆ 104725303 ┆ Сетевой инженер ┆ Linux; Huawei; Администрирован… │\n",
       "│ Сетевой инженер                 ┆ 105975500 ┆ Сетевой инженер ┆ Linux; BGP; OSPF; Администриро… │\n",
       "│ Администратор баз данных        ┆ 105833147 ┆ Сетевой инженер ┆ PostgreSQL; Vertica; Greenplum… │\n",
       "│ Ведущий сетевой инженер         ┆ 105792162 ┆ Сетевой инженер ┆ Сетевой инженер; ВОЛС; СКС; Се… │\n",
       "│ …                               ┆ …         ┆ …               ┆ …                               │\n",
       "│ Аналитик DWH                    ┆ 104588058 ┆ Аналитик        ┆ SQL; Моделирование бизнес проц… │\n",
       "│ Аналитик мерчандайзинга         ┆ 104881760 ┆ Аналитик        ┆ Аналитические исследования; MS… │\n",
       "│ Системный аналитик/ System ana… ┆ 96641028  ┆ Аналитик        ┆ SQL; Системный анализ; REST; A… │\n",
       "│ Аналитик                        ┆ 104346742 ┆ Аналитик        ┆ Power BI; Работа с большим объ… │\n",
       "│ Старший аналитик Optimacros     ┆ 104663550 ┆ Аналитик        ┆ Optimacros                      │\n",
       "└─────────────────────────────────┴───────────┴─────────────────┴─────────────────────────────────┘"
      ]
     },
     "execution_count": 2,
     "metadata": {},
     "output_type": "execute_result"
    }
   ],
   "source": [
    "skills_extractor.vacancies"
   ]
  },
  {
   "cell_type": "code",
   "execution_count": 3,
   "id": "81dd48a4-baea-4eb3-adc9-e7632ad52044",
   "metadata": {},
   "outputs": [
    {
     "data": {
      "text/plain": [
       "tensor([[ 0.0310, -0.7587, -0.1507,  ..., -0.0036,  0.3871,  0.0890],\n",
       "        [-0.1499, -0.8299, -0.0987,  ...,  0.1147,  0.4014,  0.0745],\n",
       "        [ 0.0310, -0.7587, -0.1507,  ..., -0.0036,  0.3871,  0.0890],\n",
       "        ...,\n",
       "        [-0.6827, -0.8509, -0.6790,  ..., -0.4839,  0.4057,  0.2252],\n",
       "        [-0.5957, -0.4537, -0.3978,  ...,  0.3135, -0.0458, -0.5043],\n",
       "        [-0.2930, -0.4706,  0.0170,  ..., -0.0283, -0.7334, -0.4044]])"
      ]
     },
     "execution_count": 3,
     "metadata": {},
     "output_type": "execute_result"
    }
   ],
   "source": [
    "skills_extractor.embeddings"
   ]
  },
  {
   "cell_type": "code",
   "execution_count": 4,
   "id": "af4bb22b-e1aa-47d1-a682-dba6280246df",
   "metadata": {},
   "outputs": [
    {
     "data": {
      "text/plain": [
       "torch.Size([164065, 768])"
      ]
     },
     "execution_count": 4,
     "metadata": {},
     "output_type": "execute_result"
    }
   ],
   "source": [
    "skills_extractor.embeddings.shape"
   ]
  },
  {
   "cell_type": "code",
   "execution_count": 6,
   "id": "6f74cf51-5907-478b-80aa-918964528e1e",
   "metadata": {},
   "outputs": [
    {
     "data": {
      "text/html": [
       "<div><style>\n",
       ".dataframe > thead > tr,\n",
       ".dataframe > tbody > tr {\n",
       "  text-align: right;\n",
       "  white-space: pre-wrap;\n",
       "}\n",
       "</style>\n",
       "<small>shape: (99, 1)</small><table border=\"1\" class=\"dataframe\"><thead><tr><th>parent</th></tr><tr><td>str</td></tr></thead><tbody><tr><td>&quot;PR-менеджер&quot;</td></tr><tr><td>&quot;Инженер-конструктор, инженер-п…</td></tr><tr><td>&quot;Менеджер по компенсациям и льг…</td></tr><tr><td>&quot;Event-менеджер&quot;</td></tr><tr><td>&quot;Арт-директор, креативный дире…</td></tr><tr><td>&hellip;</td></tr><tr><td>&quot;Программист, разработчик&quot;</td></tr><tr><td>&quot;Специалист технической поддер…</td></tr><tr><td>&quot;Руководитель отдела продаж&quot;</td></tr><tr><td>&quot;Продюсер&quot;</td></tr><tr><td>&quot;Делопроизводитель, архивариус&quot;</td></tr></tbody></table></div>"
      ],
      "text/plain": [
       "shape: (99, 1)\n",
       "┌─────────────────────────────────┐\n",
       "│ parent                          │\n",
       "│ ---                             │\n",
       "│ str                             │\n",
       "╞═════════════════════════════════╡\n",
       "│ PR-менеджер                     │\n",
       "│ Инженер-конструктор, инженер-п… │\n",
       "│ Менеджер по компенсациям и льг… │\n",
       "│ Event-менеджер                  │\n",
       "│ Арт-директор, креативный дире…  │\n",
       "│ …                               │\n",
       "│ Программист, разработчик        │\n",
       "│ Специалист технической поддер…  │\n",
       "│ Руководитель отдела продаж      │\n",
       "│ Продюсер                        │\n",
       "│ Делопроизводитель, архивариус   │\n",
       "└─────────────────────────────────┘"
      ]
     },
     "execution_count": 6,
     "metadata": {},
     "output_type": "execute_result"
    }
   ],
   "source": [
    "skills_extractor.vacancies.select(\"parent\").unique()"
   ]
  },
  {
   "cell_type": "code",
   "execution_count": 7,
   "id": "00e1c992-df2b-4b87-90fa-db8ef6fdb5d6",
   "metadata": {},
   "outputs": [
    {
     "data": {
      "text/html": [
       "<div><style>\n",
       ".dataframe > thead > tr,\n",
       ".dataframe > tbody > tr {\n",
       "  text-align: right;\n",
       "  white-space: pre-wrap;\n",
       "}\n",
       "</style>\n",
       "<small>shape: (164_065, 4)</small><table border=\"1\" class=\"dataframe\"><thead><tr><th>name</th><th>id</th><th>parent</th><th>key_skills</th></tr><tr><td>str</td><td>i64</td><td>str</td><td>str</td></tr></thead><tbody><tr><td>&quot;Сетевой инженер&quot;</td><td>103639272</td><td>&quot;Сетевой инженер&quot;</td><td>&quot;Cisco; MikroTik; TCP/IP; Aster…</td></tr><tr><td>&quot;Сетевой инженер, ЦОД&quot;</td><td>104725303</td><td>&quot;Сетевой инженер&quot;</td><td>&quot;Linux; Huawei; Администрирован…</td></tr><tr><td>&quot;Сетевой инженер&quot;</td><td>105975500</td><td>&quot;Сетевой инженер&quot;</td><td>&quot;Linux; BGP; OSPF; Администриро…</td></tr><tr><td>&quot;Администратор баз данных&quot;</td><td>105833147</td><td>&quot;Сетевой инженер&quot;</td><td>&quot;PostgreSQL; Vertica; Greenplum…</td></tr><tr><td>&quot;Ведущий сетевой инженер&quot;</td><td>105792162</td><td>&quot;Сетевой инженер&quot;</td><td>&quot;Сетевой инженер; ВОЛС; СКС; Се…</td></tr><tr><td>&hellip;</td><td>&hellip;</td><td>&hellip;</td><td>&hellip;</td></tr><tr><td>&quot;Аналитик DWH&quot;</td><td>104588058</td><td>&quot;Аналитик&quot;</td><td>&quot;SQL; Моделирование бизнес проц…</td></tr><tr><td>&quot;Аналитик мерчандайзинга&quot;</td><td>104881760</td><td>&quot;Аналитик&quot;</td><td>&quot;Аналитические исследования; MS…</td></tr><tr><td>&quot;Системный аналитик/ System ana…</td><td>96641028</td><td>&quot;Аналитик&quot;</td><td>&quot;SQL; Системный анализ; REST; A…</td></tr><tr><td>&quot;Аналитик&quot;</td><td>104346742</td><td>&quot;Аналитик&quot;</td><td>&quot;Power BI; Работа с большим объ…</td></tr><tr><td>&quot;Старший аналитик Optimacros&quot;</td><td>104663550</td><td>&quot;Аналитик&quot;</td><td>&quot;Optimacros&quot;</td></tr></tbody></table></div>"
      ],
      "text/plain": [
       "shape: (164_065, 4)\n",
       "┌─────────────────────────────────┬───────────┬─────────────────┬─────────────────────────────────┐\n",
       "│ name                            ┆ id        ┆ parent          ┆ key_skills                      │\n",
       "│ ---                             ┆ ---       ┆ ---             ┆ ---                             │\n",
       "│ str                             ┆ i64       ┆ str             ┆ str                             │\n",
       "╞═════════════════════════════════╪═══════════╪═════════════════╪═════════════════════════════════╡\n",
       "│ Сетевой инженер                 ┆ 103639272 ┆ Сетевой инженер ┆ Cisco; MikroTik; TCP/IP; Aster… │\n",
       "│ Сетевой инженер, ЦОД            ┆ 104725303 ┆ Сетевой инженер ┆ Linux; Huawei; Администрирован… │\n",
       "│ Сетевой инженер                 ┆ 105975500 ┆ Сетевой инженер ┆ Linux; BGP; OSPF; Администриро… │\n",
       "│ Администратор баз данных        ┆ 105833147 ┆ Сетевой инженер ┆ PostgreSQL; Vertica; Greenplum… │\n",
       "│ Ведущий сетевой инженер         ┆ 105792162 ┆ Сетевой инженер ┆ Сетевой инженер; ВОЛС; СКС; Се… │\n",
       "│ …                               ┆ …         ┆ …               ┆ …                               │\n",
       "│ Аналитик DWH                    ┆ 104588058 ┆ Аналитик        ┆ SQL; Моделирование бизнес проц… │\n",
       "│ Аналитик мерчандайзинга         ┆ 104881760 ┆ Аналитик        ┆ Аналитические исследования; MS… │\n",
       "│ Системный аналитик/ System ana… ┆ 96641028  ┆ Аналитик        ┆ SQL; Системный анализ; REST; A… │\n",
       "│ Аналитик                        ┆ 104346742 ┆ Аналитик        ┆ Power BI; Работа с большим объ… │\n",
       "│ Старший аналитик Optimacros     ┆ 104663550 ┆ Аналитик        ┆ Optimacros                      │\n",
       "└─────────────────────────────────┴───────────┴─────────────────┴─────────────────────────────────┘"
      ]
     },
     "execution_count": 7,
     "metadata": {},
     "output_type": "execute_result"
    }
   ],
   "source": [
    "skills_extractor.vacancies"
   ]
  },
  {
   "cell_type": "code",
   "execution_count": null,
   "id": "52614cb2-c2ec-4f63-a68a-8021f2263a1c",
   "metadata": {},
   "outputs": [],
   "source": [
    "1. пройтись по все parent найти их в name и если нет, то посчитать эмбединги и добавить в конец списка"
   ]
  },
  {
   "cell_type": "code",
   "execution_count": 10,
   "id": "7d59432a-fbe2-4419-8335-674be7f6d0dd",
   "metadata": {},
   "outputs": [
    {
     "data": {
      "text/html": [
       "<div><style>\n",
       ".dataframe > thead > tr,\n",
       ".dataframe > tbody > tr {\n",
       "  text-align: right;\n",
       "  white-space: pre-wrap;\n",
       "}\n",
       "</style>\n",
       "<small>shape: (1, 4)</small><table border=\"1\" class=\"dataframe\"><thead><tr><th>name</th><th>id</th><th>parent</th><th>key_skills</th></tr><tr><td>str</td><td>i64</td><td>str</td><td>str</td></tr></thead><tbody><tr><td>&quot;Сетевой инженер&quot;</td><td>103639272</td><td>&quot;Сетевой инженер&quot;</td><td>&quot;Cisco; MikroTik; TCP/IP; Aster…</td></tr></tbody></table></div>"
      ],
      "text/plain": [
       "shape: (1, 4)\n",
       "┌─────────────────┬───────────┬─────────────────┬─────────────────────────────────┐\n",
       "│ name            ┆ id        ┆ parent          ┆ key_skills                      │\n",
       "│ ---             ┆ ---       ┆ ---             ┆ ---                             │\n",
       "│ str             ┆ i64       ┆ str             ┆ str                             │\n",
       "╞═════════════════╪═══════════╪═════════════════╪═════════════════════════════════╡\n",
       "│ Сетевой инженер ┆ 103639272 ┆ Сетевой инженер ┆ Cisco; MikroTik; TCP/IP; Aster… │\n",
       "└─────────────────┴───────────┴─────────────────┴─────────────────────────────────┘"
      ]
     },
     "execution_count": 10,
     "metadata": {},
     "output_type": "execute_result"
    }
   ],
   "source": [
    "skills_extractor.vacancies[0]"
   ]
  },
  {
   "cell_type": "code",
   "execution_count": 17,
   "id": "3aeb69eb-9821-4123-9ad6-0071528e02fb",
   "metadata": {},
   "outputs": [
    {
     "data": {
      "text/html": [
       "<div><style>\n",
       ".dataframe > thead > tr,\n",
       ".dataframe > tbody > tr {\n",
       "  text-align: right;\n",
       "  white-space: pre-wrap;\n",
       "}\n",
       "</style>\n",
       "<small>shape: (1, 4)</small><table border=\"1\" class=\"dataframe\"><thead><tr><th>name</th><th>id</th><th>parent</th><th>key_skills</th></tr><tr><td>str</td><td>i64</td><td>str</td><td>str</td></tr></thead><tbody><tr><td>&quot;Сетевой инженер&quot;</td><td>105975500</td><td>&quot;Сетевой инженер&quot;</td><td>&quot;Linux; BGP; OSPF; Администриро…</td></tr></tbody></table></div>"
      ],
      "text/plain": [
       "shape: (1, 4)\n",
       "┌─────────────────┬───────────┬─────────────────┬─────────────────────────────────┐\n",
       "│ name            ┆ id        ┆ parent          ┆ key_skills                      │\n",
       "│ ---             ┆ ---       ┆ ---             ┆ ---                             │\n",
       "│ str             ┆ i64       ┆ str             ┆ str                             │\n",
       "╞═════════════════╪═══════════╪═════════════════╪═════════════════════════════════╡\n",
       "│ Сетевой инженер ┆ 105975500 ┆ Сетевой инженер ┆ Linux; BGP; OSPF; Администриро… │\n",
       "└─────────────────┴───────────┴─────────────────┴─────────────────────────────────┘"
      ]
     },
     "execution_count": 17,
     "metadata": {},
     "output_type": "execute_result"
    }
   ],
   "source": [
    "skills_extractor.vacancies[2]"
   ]
  },
  {
   "cell_type": "code",
   "execution_count": 16,
   "id": "75329e79-b6d3-46e3-ba1c-f492060c2e71",
   "metadata": {},
   "outputs": [
    {
     "data": {
      "text/plain": [
       "tensor([True, True, True, True, True, True, True, True, True, True, True, True,\n",
       "        True, True, True, True, True, True, True, True, True, True, True, True,\n",
       "        True, True, True, True, True, True, True, True, True, True, True, True,\n",
       "        True, True, True, True, True, True, True, True, True, True, True, True,\n",
       "        True, True, True, True, True, True, True, True, True, True, True, True,\n",
       "        True, True, True, True, True, True, True, True, True, True, True, True,\n",
       "        True, True, True, True, True, True, True, True, True, True, True, True,\n",
       "        True, True, True, True, True, True, True, True, True, True, True, True,\n",
       "        True, True, True, True, True, True, True, True, True, True, True, True,\n",
       "        True, True, True, True, True, True, True, True, True, True, True, True,\n",
       "        True, True, True, True, True, True, True, True, True, True, True, True,\n",
       "        True, True, True, True, True, True, True, True, True, True, True, True,\n",
       "        True, True, True, True, True, True, True, True, True, True, True, True,\n",
       "        True, True, True, True, True, True, True, True, True, True, True, True,\n",
       "        True, True, True, True, True, True, True, True, True, True, True, True,\n",
       "        True, True, True, True, True, True, True, True, True, True, True, True,\n",
       "        True, True, True, True, True, True, True, True, True, True, True, True,\n",
       "        True, True, True, True, True, True, True, True, True, True, True, True,\n",
       "        True, True, True, True, True, True, True, True, True, True, True, True,\n",
       "        True, True, True, True, True, True, True, True, True, True, True, True,\n",
       "        True, True, True, True, True, True, True, True, True, True, True, True,\n",
       "        True, True, True, True, True, True, True, True, True, True, True, True,\n",
       "        True, True, True, True, True, True, True, True, True, True, True, True,\n",
       "        True, True, True, True, True, True, True, True, True, True, True, True,\n",
       "        True, True, True, True, True, True, True, True, True, True, True, True,\n",
       "        True, True, True, True, True, True, True, True, True, True, True, True,\n",
       "        True, True, True, True, True, True, True, True, True, True, True, True,\n",
       "        True, True, True, True, True, True, True, True, True, True, True, True,\n",
       "        True, True, True, True, True, True, True, True, True, True, True, True,\n",
       "        True, True, True, True, True, True, True, True, True, True, True, True,\n",
       "        True, True, True, True, True, True, True, True, True, True, True, True,\n",
       "        True, True, True, True, True, True, True, True, True, True, True, True,\n",
       "        True, True, True, True, True, True, True, True, True, True, True, True,\n",
       "        True, True, True, True, True, True, True, True, True, True, True, True,\n",
       "        True, True, True, True, True, True, True, True, True, True, True, True,\n",
       "        True, True, True, True, True, True, True, True, True, True, True, True,\n",
       "        True, True, True, True, True, True, True, True, True, True, True, True,\n",
       "        True, True, True, True, True, True, True, True, True, True, True, True,\n",
       "        True, True, True, True, True, True, True, True, True, True, True, True,\n",
       "        True, True, True, True, True, True, True, True, True, True, True, True,\n",
       "        True, True, True, True, True, True, True, True, True, True, True, True,\n",
       "        True, True, True, True, True, True, True, True, True, True, True, True,\n",
       "        True, True, True, True, True, True, True, True, True, True, True, True,\n",
       "        True, True, True, True, True, True, True, True, True, True, True, True,\n",
       "        True, True, True, True, True, True, True, True, True, True, True, True,\n",
       "        True, True, True, True, True, True, True, True, True, True, True, True,\n",
       "        True, True, True, True, True, True, True, True, True, True, True, True,\n",
       "        True, True, True, True, True, True, True, True, True, True, True, True,\n",
       "        True, True, True, True, True, True, True, True, True, True, True, True,\n",
       "        True, True, True, True, True, True, True, True, True, True, True, True,\n",
       "        True, True, True, True, True, True, True, True, True, True, True, True,\n",
       "        True, True, True, True, True, True, True, True, True, True, True, True,\n",
       "        True, True, True, True, True, True, True, True, True, True, True, True,\n",
       "        True, True, True, True, True, True, True, True, True, True, True, True,\n",
       "        True, True, True, True, True, True, True, True, True, True, True, True,\n",
       "        True, True, True, True, True, True, True, True, True, True, True, True,\n",
       "        True, True, True, True, True, True, True, True, True, True, True, True,\n",
       "        True, True, True, True, True, True, True, True, True, True, True, True,\n",
       "        True, True, True, True, True, True, True, True, True, True, True, True,\n",
       "        True, True, True, True, True, True, True, True, True, True, True, True,\n",
       "        True, True, True, True, True, True, True, True, True, True, True, True,\n",
       "        True, True, True, True, True, True, True, True, True, True, True, True,\n",
       "        True, True, True, True, True, True, True, True, True, True, True, True,\n",
       "        True, True, True, True, True, True, True, True, True, True, True, True])"
      ]
     },
     "execution_count": 16,
     "metadata": {},
     "output_type": "execute_result"
    }
   ],
   "source": [
    "skills_extractor.embeddings[0] == skills_extractor.embeddings[2]"
   ]
  },
  {
   "cell_type": "code",
   "execution_count": 11,
   "id": "18c5c9b3-8a00-4b1b-be74-217121cf0deb",
   "metadata": {},
   "outputs": [
    {
     "data": {
      "text/html": [
       "<div><style>\n",
       ".dataframe > thead > tr,\n",
       ".dataframe > tbody > tr {\n",
       "  text-align: right;\n",
       "  white-space: pre-wrap;\n",
       "}\n",
       "</style>\n",
       "<small>shape: (1, 4)</small><table border=\"1\" class=\"dataframe\"><thead><tr><th>name</th><th>id</th><th>parent</th><th>key_skills</th></tr><tr><td>str</td><td>i64</td><td>str</td><td>str</td></tr></thead><tbody><tr><td>&quot;Сетевой инженер&quot;</td><td>105975500</td><td>&quot;Сетевой инженер&quot;</td><td>&quot;Linux; BGP; OSPF; Администриро…</td></tr></tbody></table></div>"
      ],
      "text/plain": [
       "shape: (1, 4)\n",
       "┌─────────────────┬───────────┬─────────────────┬─────────────────────────────────┐\n",
       "│ name            ┆ id        ┆ parent          ┆ key_skills                      │\n",
       "│ ---             ┆ ---       ┆ ---             ┆ ---                             │\n",
       "│ str             ┆ i64       ┆ str             ┆ str                             │\n",
       "╞═════════════════╪═══════════╪═════════════════╪═════════════════════════════════╡\n",
       "│ Сетевой инженер ┆ 105975500 ┆ Сетевой инженер ┆ Linux; BGP; OSPF; Администриро… │\n",
       "└─────────────────┴───────────┴─────────────────┴─────────────────────────────────┘"
      ]
     },
     "execution_count": 11,
     "metadata": {},
     "output_type": "execute_result"
    }
   ],
   "source": [
    "skills_extractor.vacancies[2]"
   ]
  },
  {
   "cell_type": "code",
   "execution_count": 9,
   "id": "cc866186-3e21-433d-a490-ddf75a1a0cca",
   "metadata": {},
   "outputs": [
    {
     "data": {
      "text/html": [
       "<div><style>\n",
       ".dataframe > thead > tr,\n",
       ".dataframe > tbody > tr {\n",
       "  text-align: right;\n",
       "  white-space: pre-wrap;\n",
       "}\n",
       "</style>\n",
       "<small>shape: (91_541, 4)</small><table border=\"1\" class=\"dataframe\"><thead><tr><th>name</th><th>id</th><th>parent</th><th>key_skills</th></tr><tr><td>str</td><td>i64</td><td>str</td><td>str</td></tr></thead><tbody><tr><td>&quot;&quot;Менеджер по недвижимости&quot;&quot;</td><td>100827006</td><td>&quot;Агент по недвижимости&quot;</td><td>&quot;Навыки переговоров; Деловая ко…</td></tr><tr><td>&quot;&quot;Риэлтор/стажер&quot;&quot;</td><td>102841396</td><td>&quot;Агент по недвижимости&quot;</td><td>&quot;Телефонные переговоры; Клиенто…</td></tr><tr><td>&quot;&quot;Финансовый менеджер в отделен…</td><td>95866733</td><td>&quot;Кредитный специалист&quot;</td><td>&quot;Пользователь ПК; Навыки продаж…</td></tr><tr><td>&quot;&quot;Финансовый менеджер в отделен…</td><td>102408858</td><td>&quot;Кредитный специалист&quot;</td><td>&quot;Кредитные договоры; Продажа ст…</td></tr><tr><td>&quot;&quot;Финансовый менеджер в отделен…</td><td>101425506</td><td>&quot;Кредитный специалист&quot;</td><td>&quot;Активные продажи; Клиентоориен…</td></tr><tr><td>&hellip;</td><td>&hellip;</td><td>&hellip;</td><td>&hellip;</td></tr><tr><td>&quot;​​​​​​​​​​​​​​ Программист Бит…</td><td>105992588</td><td>&quot;Программист, разработчик&quot;</td><td>&quot;Bitrix API; PHP; MySQL; JS&quot;</td></tr><tr><td>&quot;•Менеджер отдела продаж&quot;</td><td>98230715</td><td>&quot;Менеджер по продажам, менеджер…</td><td>&quot;Обучение и развитие; Телефонны…</td></tr><tr><td>&quot;中文翻译&quot;</td><td>106008647</td><td>&quot;Переводчик&quot;</td><td>&quot;Деловое общение; Деловые комму…</td></tr><tr><td>&quot;️Администратор вычислительной …</td><td>102269336</td><td>&quot;Сетевой инженер&quot;</td><td>&quot;Zabbix; Телефония; Связь; ЛВС;…</td></tr><tr><td>&quot;𓅃 Телемаркетолог (удаленно, бе…</td><td>90695834</td><td>&quot;Менеджер по продажам, менеджер…</td><td>&quot;Телефонные переговоры; Деловое…</td></tr></tbody></table></div>"
      ],
      "text/plain": [
       "shape: (91_541, 4)\n",
       "┌────────────────────────────┬───────────┬────────────────────────────┬────────────────────────────┐\n",
       "│ name                       ┆ id        ┆ parent                     ┆ key_skills                 │\n",
       "│ ---                        ┆ ---       ┆ ---                        ┆ ---                        │\n",
       "│ str                        ┆ i64       ┆ str                        ┆ str                        │\n",
       "╞════════════════════════════╪═══════════╪════════════════════════════╪════════════════════════════╡\n",
       "│ \"Менеджер по недвижимости\" ┆ 100827006 ┆ Агент по недвижимости      ┆ Навыки переговоров;        │\n",
       "│                            ┆           ┆                            ┆ Деловая ко…                │\n",
       "│ \"Риэлтор/стажер\"           ┆ 102841396 ┆ Агент по недвижимости      ┆ Телефонные переговоры;     │\n",
       "│                            ┆           ┆                            ┆ Клиенто…                   │\n",
       "│ \"Финансовый менеджер в     ┆ 95866733  ┆ Кредитный специалист       ┆ Пользователь ПК; Навыки    │\n",
       "│ отделен…                   ┆           ┆                            ┆ продаж…                    │\n",
       "│ \"Финансовый менеджер в     ┆ 102408858 ┆ Кредитный специалист       ┆ Кредитные договоры;        │\n",
       "│ отделен…                   ┆           ┆                            ┆ Продажа ст…                │\n",
       "│ \"Финансовый менеджер в     ┆ 101425506 ┆ Кредитный специалист       ┆ Активные продажи;          │\n",
       "│ отделен…                   ┆           ┆                            ┆ Клиентоориен…              │\n",
       "│ …                          ┆ …         ┆ …                          ┆ …                          │\n",
       "│ ​​​​​​​​​​​​​​ Программист Бит…          ┆ 105992588 ┆ Программист, разработчик   ┆ Bitrix API; PHP; MySQL; JS │\n",
       "│ •Менеджер отдела продаж    ┆ 98230715  ┆ Менеджер по продажам,      ┆ Обучение и развитие;       │\n",
       "│                            ┆           ┆ менеджер…                  ┆ Телефонны…                 │\n",
       "│ 中文翻译                   ┆ 106008647 ┆ Переводчик                 ┆ Деловое общение; Деловые   │\n",
       "│                            ┆           ┆                            ┆ комму…                     │\n",
       "│ ️Администратор              ┆ 102269336 ┆ Сетевой инженер            ┆ Zabbix; Телефония; Связь;  │\n",
       "│ вычислительной …           ┆           ┆                            ┆ ЛВС;…                      │\n",
       "│ 𓅃 Телемаркетолог           ┆ 90695834  ┆ Менеджер по продажам,      ┆ Телефонные переговоры;     │\n",
       "│ (удаленно, бе…             ┆           ┆ менеджер…                  ┆ Деловое…                   │\n",
       "└────────────────────────────┴───────────┴────────────────────────────┴────────────────────────────┘"
      ]
     },
     "execution_count": 9,
     "metadata": {},
     "output_type": "execute_result"
    }
   ],
   "source": [
    "skills_extractor.vacancies.group_by(\"name\").head(2).sort(\"name\")"
   ]
  },
  {
   "cell_type": "code",
   "execution_count": 18,
   "id": "442c1601-2435-408e-8815-05d0ad500a92",
   "metadata": {},
   "outputs": [
    {
     "data": {
      "text/plain": [
       "torch.Size([164065, 768])"
      ]
     },
     "execution_count": 18,
     "metadata": {},
     "output_type": "execute_result"
    }
   ],
   "source": [
    "skills_extractor.embeddings.shape"
   ]
  },
  {
   "cell_type": "code",
   "execution_count": 21,
   "id": "c5940748-1e26-4d93-9bdf-c7c197fe7beb",
   "metadata": {},
   "outputs": [
    {
     "name": "stdout",
     "output_type": "stream",
     "text": [
      "Количество уникальных векторов: 78970\n"
     ]
    }
   ],
   "source": [
    "import torch\n",
    "import numpy as np\n",
    "\n",
    "tensor_np = skills_extractor.embeddings.numpy()\n",
    "\n",
    "# Находим уникальные строки\n",
    "unique_vectors = np.unique(tensor_np, axis = 0)\n",
    "\n",
    "# Количество уникальных векторов\n",
    "num_unique_vectors = unique_vectors.shape[0]\n",
    "\n",
    "print(f\"Количество уникальных векторов: {num_unique_vectors}\")"
   ]
  },
  {
   "cell_type": "code",
   "execution_count": null,
   "id": "0e45ef9b-00d3-466f-910c-790082f4ae7d",
   "metadata": {},
   "outputs": [],
   "source": []
  }
 ],
 "metadata": {
  "kernelspec": {
   "display_name": "Python 3 (ipykernel)",
   "language": "python",
   "name": "python3"
  },
  "language_info": {
   "codemirror_mode": {
    "name": "ipython",
    "version": 3
   },
   "file_extension": ".py",
   "mimetype": "text/x-python",
   "name": "python",
   "nbconvert_exporter": "python",
   "pygments_lexer": "ipython3",
   "version": "3.12.7"
  }
 },
 "nbformat": 4,
 "nbformat_minor": 5
}
