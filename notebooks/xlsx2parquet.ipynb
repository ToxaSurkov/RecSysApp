{
 "cells": [
  {
   "cell_type": "markdown",
   "id": "586916bd-f591-444e-849e-31b86e7c0f06",
   "metadata": {},
   "source": [
    "## Конвертация XLSX в Parquet"
   ]
  },
  {
   "cell_type": "markdown",
   "id": "54f08139-82a0-4aed-9d33-1a262770da4b",
   "metadata": {},
   "source": [
    "### Версия Python"
   ]
  },
  {
   "cell_type": "code",
   "execution_count": 1,
   "id": "8797e560-6642-4f1e-ab90-8a51f44dd018",
   "metadata": {},
   "outputs": [
    {
     "name": "stdout",
     "output_type": "stream",
     "text": [
      "Python 3.12.7\n"
     ]
    }
   ],
   "source": [
    "!python -V"
   ]
  },
  {
   "cell_type": "markdown",
   "id": "7cc046e9-7ac8-478c-b8fb-df952b6626ce",
   "metadata": {},
   "source": [
    "### Импорт необходимых библиотек"
   ]
  },
  {
   "cell_type": "code",
   "execution_count": 2,
   "id": "ab4d8b95-9f1c-4caf-b2f0-e34fa29daf4e",
   "metadata": {},
   "outputs": [],
   "source": [
    "# Подавление предупреждений\n",
    "import warnings\n",
    "for warn in [UserWarning, FutureWarning]: warnings.filterwarnings(\"ignore\", category = warn)\n",
    "\n",
    "import os\n",
    "import time\n",
    "import polars as pl\n",
    "import fastexcel\n",
    "import multiprocessing\n",
    "import tqdm as tq\n",
    "import jupyterlab as jlab\n",
    "import ipywidgets\n",
    "\n",
    "from pathlib import Path\n",
    "from tqdm import tqdm\n",
    "from concurrent.futures import ThreadPoolExecutor"
   ]
  },
  {
   "cell_type": "markdown",
   "id": "b9933352-34d9-4e0f-b54e-dffd9a916bbd",
   "metadata": {},
   "source": [
    "### Версии необходимых библиотек"
   ]
  },
  {
   "cell_type": "code",
   "execution_count": 3,
   "id": "c9b974cd-7976-4859-9d78-35e8618dbb48",
   "metadata": {},
   "outputs": [
    {
     "data": {
      "text/html": [
       "<div><style>\n",
       ".dataframe > thead > tr,\n",
       ".dataframe > tbody > tr {\n",
       "  text-align: right;\n",
       "  white-space: pre-wrap;\n",
       "}\n",
       "</style>\n",
       "<small>shape: (5, 3)</small><table border=\"1\" class=\"dataframe\"><thead><tr><th>№</th><th>Библиотека</th><th>Версия</th></tr><tr><td>i64</td><td>str</td><td>str</td></tr></thead><tbody><tr><td>1</td><td>&quot;Polars&quot;</td><td>&quot;1.12.0&quot;</td></tr><tr><td>2</td><td>&quot;Fastexcel&quot;</td><td>&quot;0.12.0&quot;</td></tr><tr><td>3</td><td>&quot;Ipywidgets&quot;</td><td>&quot;8.1.5&quot;</td></tr><tr><td>4</td><td>&quot;Tqdm&quot;</td><td>&quot;4.66.5&quot;</td></tr><tr><td>5</td><td>&quot;JupyterLab&quot;</td><td>&quot;4.2.5&quot;</td></tr></tbody></table></div>"
      ],
      "text/plain": [
       "shape: (5, 3)\n",
       "┌─────┬────────────┬────────┐\n",
       "│ №   ┆ Библиотека ┆ Версия │\n",
       "│ --- ┆ ---        ┆ ---    │\n",
       "│ i64 ┆ str        ┆ str    │\n",
       "╞═════╪════════════╪════════╡\n",
       "│ 1   ┆ Polars     ┆ 1.12.0 │\n",
       "│ 2   ┆ Fastexcel  ┆ 0.12.0 │\n",
       "│ 3   ┆ Ipywidgets ┆ 8.1.5  │\n",
       "│ 4   ┆ Tqdm       ┆ 4.66.5 │\n",
       "│ 5   ┆ JupyterLab ┆ 4.2.5  │\n",
       "└─────┴────────────┴────────┘"
      ]
     },
     "metadata": {},
     "output_type": "display_data"
    }
   ],
   "source": [
    "packages = [\n",
    "    \"Polars\", \"Fastexcel\", \"Ipywidgets\", \"Tqdm\", \"JupyterLab\"\n",
    "]\n",
    "\n",
    "package_objects = [\n",
    "    pl, fastexcel, ipywidgets, tq, jlab\n",
    "]\n",
    "\n",
    "versions = list(map(lambda obj: obj.__version__, package_objects))\n",
    "\n",
    "columns_order = [\"№\", \"Библиотека\", \"Версия\"]\n",
    "df_pkgs = (\n",
    "    pl.DataFrame({\n",
    "        columns_order[1]: packages,\n",
    "        columns_order[2]: versions\n",
    "    })\n",
    "    .with_columns(pl.arange(1, pl.lit(len(packages)) + 1).alias(columns_order[0]))\n",
    "    .select(columns_order)\n",
    ")\n",
    "\n",
    "display(df_pkgs)\n",
    "\n",
    "path2reqs = \".\"\n",
    "reqs_name = \"requirements.txt\"\n",
    "\n",
    "def get_packages_and_versions():\n",
    "    \"\"\"Генерация строк с библиотеками и их версиями в формате: библиотека==версия\"\"\"\n",
    "    \n",
    "    for package, version in zip(packages, versions):\n",
    "        yield f\"{package.lower()}=={version}\\n\"\n",
    "\n",
    "with open(os.path.join(path2reqs, reqs_name), \"w\", encoding = \"utf-8\") as f:\n",
    "    f.writelines(get_packages_and_versions())"
   ]
  },
  {
   "cell_type": "markdown",
   "id": "cc405d7e-888f-4e45-bd0c-b4e976bdfd2f",
   "metadata": {},
   "source": [
    "### Чтение всех `xlsx` файлов"
   ]
  },
  {
   "cell_type": "code",
   "execution_count": 4,
   "id": "6250401b-5a77-44f3-b924-e2de25de6984",
   "metadata": {},
   "outputs": [
    {
     "name": "stderr",
     "output_type": "stream",
     "text": [
      "Обработка xlsx файлов: 100%|████████████████████████████████████████████████████████████| 1/1 [00:00<00:00, 14.37файл/s]"
     ]
    },
    {
     "name": "stdout",
     "output_type": "stream",
     "text": [
      "Количество строк: 38978\n",
      "Время выполнения: 0.788958 секунд\n"
     ]
    },
    {
     "name": "stderr",
     "output_type": "stream",
     "text": [
      "\n"
     ]
    }
   ],
   "source": [
    "start_time = time.time()\n",
    "\n",
    "# Получение количества ядер процессора\n",
    "num_cores_cpu = multiprocessing.cpu_count()\n",
    "\n",
    "# Определение пути к папке с xlsx файлами\n",
    "# path2files = Path(\"/Users/dl/GitHub/RecSysApp/data/ПУДы\")\n",
    "# path2files = Path(\"/Users/dl/GitHub/RecSysApp/data/ПУДы_навыки\")\n",
    "path2files = Path(\"/Users/dl/GitHub/RecSysApp/data/Оценки\")\n",
    "\n",
    "# Получение списка всех xlsx файлов\n",
    "xlsx_files = list(path2files.rglob(\"*.xlsx\"))\n",
    "\n",
    "def load_xlsx(file_path):\n",
    "    \"\"\"Чтение xlsx файла\"\"\"\n",
    "    \n",
    "    return pl.read_excel(source = file_path)\n",
    "\n",
    "# Ограничение количества потоков\n",
    "max_workers = min(num_cores_cpu, len(xlsx_files))\n",
    "\n",
    "# Чтение файлов параллельно с использованием ThreadPoolExecutor\n",
    "with ThreadPoolExecutor(max_workers = max_workers) as executor:\n",
    "    dfs = list(tqdm(executor.map(load_xlsx, xlsx_files), desc = \"Обработка xlsx файлов\", total = len(xlsx_files), unit = \"файл\"))\n",
    "\n",
    "# Объединение всех файлов в один DataFrame\n",
    "df = pl.concat(dfs)\n",
    "\n",
    "print(f\"Количество строк: {df.shape[0]}\")\n",
    "\n",
    "end_time = time.time()\n",
    "elapsed_time = end_time - start_time\n",
    "\n",
    "print(f\"Время выполнения: {elapsed_time:.6f} секунд\")"
   ]
  },
  {
   "cell_type": "markdown",
   "id": "a110d8dc-433e-46e2-b882-7234a1eb88fe",
   "metadata": {},
   "source": [
    "#### ПУДы"
   ]
  },
  {
   "cell_type": "code",
   "execution_count": 5,
   "id": "88373645-43b8-4a1e-93ab-566ce36650cf",
   "metadata": {},
   "outputs": [
    {
     "data": {
      "text/plain": [
       "'Сравнительный федерализм'"
      ]
     },
     "execution_count": 5,
     "metadata": {},
     "output_type": "execute_result"
    }
   ],
   "source": [
    "df[0][\"Русскоязычное название дисциплины\"][0]"
   ]
  },
  {
   "cell_type": "markdown",
   "id": "813f4076-b939-4a70-bb77-cc2535232b1e",
   "metadata": {},
   "source": [
    "#### Навыки из ПУДов"
   ]
  },
  {
   "cell_type": "code",
   "execution_count": 6,
   "id": "8725eac0-c3c2-49f5-bfb8-08a622f712fc",
   "metadata": {},
   "outputs": [
    {
     "data": {
      "text/plain": [
       "'        Анализ политических систем; Разграничение полномочий; Бюджетный федерализм; Конституционное право; Федеративное устройство; Международное право; Этнополитика; Теория федерализма; Политическая экономия;  Социология;  История федеральных систем;  Правовое регулирование.  \\n\\n\\n'"
      ]
     },
     "execution_count": 6,
     "metadata": {},
     "output_type": "execute_result"
    }
   ],
   "source": [
    "df[0][\"LLM_Skills\"][0]"
   ]
  },
  {
   "cell_type": "markdown",
   "id": "2c34189b-5eb5-47cc-859c-30718bad69f8",
   "metadata": {},
   "source": [
    "#### Оценки"
   ]
  },
  {
   "cell_type": "code",
   "execution_count": 8,
   "id": "3f8c225e-7ead-4fb1-898d-eb36151f8101",
   "metadata": {},
   "outputs": [
    {
     "data": {
      "text/html": [
       "<div><style>\n",
       ".dataframe > thead > tr,\n",
       ".dataframe > tbody > tr {\n",
       "  text-align: right;\n",
       "  white-space: pre-wrap;\n",
       "}\n",
       "</style>\n",
       "<small>shape: (1, 11)</small><table border=\"1\" class=\"dataframe\"><thead><tr><th>ID дисциплины БУП ППК (АСАВ)</th><th>Средняя оценка</th><th>Статистическая погрешность средней оценки</th><th>Медианная оценка</th><th>Статистическая погрешность медианной оценки</th><th>Индекс сложности освоения курса №1 (метрика Вассерштейна)</th><th>Статистическая погрешности индекса №1</th><th>Индекс сложности освоения курса №2 (по средней оценке)</th><th>Статистическая погрешности индекса №2</th><th>Индекс сложности освоения курса №3 (по медианной оценке)</th><th>Статистическая погрешности индекса №3</th></tr><tr><td>i64</td><td>f64</td><td>f64</td><td>f64</td><td>f64</td><td>f64</td><td>f64</td><td>f64</td><td>f64</td><td>f64</td><td>f64</td></tr></thead><tbody><tr><td>2054237458</td><td>3.0</td><td>null</td><td>3.0</td><td>null</td><td>null</td><td>null</td><td>null</td><td>null</td><td>null</td><td>null</td></tr></tbody></table></div>"
      ],
      "text/plain": [
       "shape: (1, 11)\n",
       "┌───────────┬───────────┬───────────┬───────────┬───┬───────────┬───────────┬───────────┬──────────┐\n",
       "│ ID дисцип ┆ Средняя   ┆ Статистич ┆ Медианная ┆ … ┆ Индекс    ┆ Статистич ┆ Индекс    ┆ Статисти │\n",
       "│ лины БУП  ┆ оценка    ┆ еская пог ┆ оценка    ┆   ┆ сложности ┆ еская пог ┆ сложности ┆ ческая   │\n",
       "│ ППК       ┆ ---       ┆ решность  ┆ ---       ┆   ┆ освоения  ┆ решности  ┆ освоения  ┆ погрешно │\n",
       "│ (АСАВ)    ┆ f64       ┆ сре…      ┆ f64       ┆   ┆ курс…     ┆ инд…      ┆ курс…     ┆ сти инд… │\n",
       "│ ---       ┆           ┆ ---       ┆           ┆   ┆ ---       ┆ ---       ┆ ---       ┆ ---      │\n",
       "│ i64       ┆           ┆ f64       ┆           ┆   ┆ f64       ┆ f64       ┆ f64       ┆ f64      │\n",
       "╞═══════════╪═══════════╪═══════════╪═══════════╪═══╪═══════════╪═══════════╪═══════════╪══════════╡\n",
       "│ 205423745 ┆ 3.0       ┆ null      ┆ 3.0       ┆ … ┆ null      ┆ null      ┆ null      ┆ null     │\n",
       "│ 8         ┆           ┆           ┆           ┆   ┆           ┆           ┆           ┆          │\n",
       "└───────────┴───────────┴───────────┴───────────┴───┴───────────┴───────────┴───────────┴──────────┘"
      ]
     },
     "execution_count": 8,
     "metadata": {},
     "output_type": "execute_result"
    }
   ],
   "source": [
    "df[0]"
   ]
  },
  {
   "cell_type": "code",
   "execution_count": 9,
   "id": "55405817-2550-4642-bb77-7b151519f686",
   "metadata": {},
   "outputs": [],
   "source": [
    "# Путь для сохранения\n",
    "save_path = Path(\"/Users/dl/GitHub/RecSysApp/data\")\n",
    "\n",
    "def prepare_save_path(save_path, rmtree = False):\n",
    "    \"\"\"Создание/очистка целевой папки\"\"\"\n",
    "    \n",
    "    if save_path.exists() and rmtree:\n",
    "        shutil.rmtree(save_path)\n",
    "    save_path.mkdir(parents = True, exist_ok = True)\n",
    "\n",
    "prepare_save_path(save_path)\n",
    "\n",
    "def save2parquet(df, file_path, columns = None):\n",
    "    \"\"\"Cохранения DataFrame в Parquet\"\"\"\n",
    "\n",
    "    if columns:\n",
    "        df = df.select(columns)\n",
    "    \n",
    "    df.write_parquet(file_path)\n",
    "\n",
    "# Сохранение выборок\n",
    "save2parquet(\n",
    "    # df, save_path / \"ПУДы_навыки.parquet\",\n",
    "    df, save_path / \"Оценки.parquet\",\n",
    "    # [\"ID дисциплины БУП ППК (АСАВ)\", \"LLM_Skills\"]\n",
    ")"
   ]
  },
  {
   "cell_type": "markdown",
   "id": "11c18983-b720-4f22-a693-4abba3ac2f62",
   "metadata": {},
   "source": [
    "### Тестирование Parquet файла"
   ]
  },
  {
   "cell_type": "code",
   "execution_count": 10,
   "id": "386b9225-a890-4da7-af48-311d2fed74fb",
   "metadata": {},
   "outputs": [
    {
     "name": "stderr",
     "output_type": "stream",
     "text": [
      "Чтение Parquet файлов: 100%|███████████████████████████████████████████████████████████| 1/1 [00:00<00:00, 123.90файл/s]"
     ]
    },
    {
     "name": "stdout",
     "output_type": "stream",
     "text": [
      "Количество строк: 38978\n",
      "Время выполнения: 0.018287 секунд\n"
     ]
    },
    {
     "name": "stderr",
     "output_type": "stream",
     "text": [
      "\n"
     ]
    }
   ],
   "source": [
    "start_time = time.time()\n",
    "\n",
    "# Получение количества ядер процессора\n",
    "num_cores_cpu = multiprocessing.cpu_count()\n",
    "\n",
    "# Определение пути к папке с Parquet файлами\n",
    "path2files = Path(\"/Users/dl/GitHub/RecSysApp/data\")\n",
    "\n",
    "# Получение списка всех Parquet файлов\n",
    "# parquet_files = list(path2files.rglob(\"*ПУДы*.parquet\"))\n",
    "# parquet_files = list(path2files.rglob(\"*ПУДы_навыки*.parquet\"))\n",
    "parquet_files = list(path2files.rglob(\"*Оценки*.parquet\"))\n",
    "\n",
    "def load_parquet(file_path):\n",
    "    \"\"\"Чтение Parquet файла\"\"\"\n",
    "    \n",
    "    return pl.read_parquet(file_path)\n",
    "\n",
    "# Ограничение количества потоков\n",
    "max_workers = min(num_cores_cpu, len(parquet_files))\n",
    "\n",
    "# Чтение Parquet файлов\n",
    "with ThreadPoolExecutor(max_workers = max_workers) as executor:\n",
    "    dfs = list(tqdm(executor.map(\n",
    "        load_parquet, parquet_files), desc = \"Чтение Parquet файлов\", total = len(parquet_files), unit = \"файл\")\n",
    "    )\n",
    "\n",
    "# Объединение всех файлов в один DataFrame\n",
    "df = pl.concat(dfs)\n",
    "\n",
    "print(f\"Количество строк: {df.shape[0]}\")\n",
    "\n",
    "end_time = time.time()\n",
    "elapsed_time = end_time - start_time\n",
    "\n",
    "print(f\"Время выполнения: {elapsed_time:.6f} секунд\")"
   ]
  },
  {
   "cell_type": "markdown",
   "id": "22d7d936-c922-4ddd-a8b4-471c698dc102",
   "metadata": {},
   "source": [
    "#### ПУДы"
   ]
  },
  {
   "cell_type": "code",
   "execution_count": 82,
   "id": "debba6ed-9b5f-43bf-b2fc-44fb10755a10",
   "metadata": {},
   "outputs": [
    {
     "data": {
      "text/plain": [
       "'Выставочная деятельность в сфере искусства и культуры'"
      ]
     },
     "execution_count": 82,
     "metadata": {},
     "output_type": "execute_result"
    }
   ],
   "source": [
    "df[0][\"Русскоязычное название дисциплины\"][0]"
   ]
  },
  {
   "cell_type": "markdown",
   "id": "39ca3361-b7ee-4d12-ade3-f5b11aae52e3",
   "metadata": {},
   "source": [
    "#### Навыки из ПУДов"
   ]
  },
  {
   "cell_type": "code",
   "execution_count": 16,
   "id": "07e7d429-aa9f-45c6-b0b1-1f775ea6fe0b",
   "metadata": {},
   "outputs": [
    {
     "data": {
      "text/plain": [
       "'        Анализ политических систем; Разграничение полномочий; Бюджетный федерализм; Конституционное право; Федеративное устройство; Международное право; Этнополитика; Теория федерализма; Политическая экономия;  Социология;  История федеральных систем;  Правовое регулирование.  \\n\\n\\n'"
      ]
     },
     "execution_count": 16,
     "metadata": {},
     "output_type": "execute_result"
    }
   ],
   "source": [
    "df[0][\"LLM_Skills\"][0]"
   ]
  },
  {
   "cell_type": "code",
   "execution_count": 22,
   "id": "c3dbab36-ae0b-46a3-ac5c-b97ce98e18f7",
   "metadata": {},
   "outputs": [
    {
     "data": {
      "text/plain": [
       "'        Анализ политических систем; Разграничение полномочий; Бюджетный федерализм; Конституционное право; Федеративное устройство; Международное право; Этнополитика; Теория федерализма; Политическая экономия;  Социология;  История федеральных систем;  Правовое регулирование.  \\n\\n\\n'"
      ]
     },
     "execution_count": 22,
     "metadata": {},
     "output_type": "execute_result"
    }
   ],
   "source": [
    "df2 = df.filter(\n",
    "    pl.col(\"ID дисциплины БУП ППК (АСАВ)\") == 16281497017\n",
    ")[0][\"LLM_Skills\"][0]\n",
    "df2"
   ]
  },
  {
   "cell_type": "markdown",
   "id": "54acab6e-f872-4d6e-833e-25545e0c81a6",
   "metadata": {},
   "source": [
    "#### Оценки"
   ]
  },
  {
   "cell_type": "code",
   "execution_count": 11,
   "id": "a682a120-0bea-4e37-a4dc-298150f42811",
   "metadata": {},
   "outputs": [
    {
     "data": {
      "text/html": [
       "<div><style>\n",
       ".dataframe > thead > tr,\n",
       ".dataframe > tbody > tr {\n",
       "  text-align: right;\n",
       "  white-space: pre-wrap;\n",
       "}\n",
       "</style>\n",
       "<small>shape: (1, 11)</small><table border=\"1\" class=\"dataframe\"><thead><tr><th>ID дисциплины БУП ППК (АСАВ)</th><th>Средняя оценка</th><th>Статистическая погрешность средней оценки</th><th>Медианная оценка</th><th>Статистическая погрешность медианной оценки</th><th>Индекс сложности освоения курса №1 (метрика Вассерштейна)</th><th>Статистическая погрешности индекса №1</th><th>Индекс сложности освоения курса №2 (по средней оценке)</th><th>Статистическая погрешности индекса №2</th><th>Индекс сложности освоения курса №3 (по медианной оценке)</th><th>Статистическая погрешности индекса №3</th></tr><tr><td>i64</td><td>f64</td><td>f64</td><td>f64</td><td>f64</td><td>f64</td><td>f64</td><td>f64</td><td>f64</td><td>f64</td><td>f64</td></tr></thead><tbody><tr><td>2054237458</td><td>3.0</td><td>null</td><td>3.0</td><td>null</td><td>null</td><td>null</td><td>null</td><td>null</td><td>null</td><td>null</td></tr></tbody></table></div>"
      ],
      "text/plain": [
       "shape: (1, 11)\n",
       "┌───────────┬───────────┬───────────┬───────────┬───┬───────────┬───────────┬───────────┬──────────┐\n",
       "│ ID дисцип ┆ Средняя   ┆ Статистич ┆ Медианная ┆ … ┆ Индекс    ┆ Статистич ┆ Индекс    ┆ Статисти │\n",
       "│ лины БУП  ┆ оценка    ┆ еская пог ┆ оценка    ┆   ┆ сложности ┆ еская пог ┆ сложности ┆ ческая   │\n",
       "│ ППК       ┆ ---       ┆ решность  ┆ ---       ┆   ┆ освоения  ┆ решности  ┆ освоения  ┆ погрешно │\n",
       "│ (АСАВ)    ┆ f64       ┆ сре…      ┆ f64       ┆   ┆ курс…     ┆ инд…      ┆ курс…     ┆ сти инд… │\n",
       "│ ---       ┆           ┆ ---       ┆           ┆   ┆ ---       ┆ ---       ┆ ---       ┆ ---      │\n",
       "│ i64       ┆           ┆ f64       ┆           ┆   ┆ f64       ┆ f64       ┆ f64       ┆ f64      │\n",
       "╞═══════════╪═══════════╪═══════════╪═══════════╪═══╪═══════════╪═══════════╪═══════════╪══════════╡\n",
       "│ 205423745 ┆ 3.0       ┆ null      ┆ 3.0       ┆ … ┆ null      ┆ null      ┆ null      ┆ null     │\n",
       "│ 8         ┆           ┆           ┆           ┆   ┆           ┆           ┆           ┆          │\n",
       "└───────────┴───────────┴───────────┴───────────┴───┴───────────┴───────────┴───────────┴──────────┘"
      ]
     },
     "execution_count": 11,
     "metadata": {},
     "output_type": "execute_result"
    }
   ],
   "source": [
    "df[0]"
   ]
  },
  {
   "cell_type": "code",
   "execution_count": 12,
   "id": "92087d77-047d-4bb9-8334-acf1660e259b",
   "metadata": {},
   "outputs": [
    {
     "data": {
      "text/plain": [
       "3.0"
      ]
     },
     "execution_count": 12,
     "metadata": {},
     "output_type": "execute_result"
    }
   ],
   "source": [
    "df.filter(\n",
    "    pl.col(\"ID дисциплины БУП ППК (АСАВ)\") == 2054237458\n",
    ")[0][\"Средняя оценка\"][0]"
   ]
  },
  {
   "cell_type": "code",
   "execution_count": null,
   "id": "33e674a9-c893-4b29-9780-693a79d1ecfc",
   "metadata": {},
   "outputs": [],
   "source": []
  }
 ],
 "metadata": {
  "kernelspec": {
   "display_name": "Python 3 (ipykernel)",
   "language": "python",
   "name": "python3"
  },
  "language_info": {
   "codemirror_mode": {
    "name": "ipython",
    "version": 3
   },
   "file_extension": ".py",
   "mimetype": "text/x-python",
   "name": "python",
   "nbconvert_exporter": "python",
   "pygments_lexer": "ipython3",
   "version": "3.12.7"
  }
 },
 "nbformat": 4,
 "nbformat_minor": 5
}
