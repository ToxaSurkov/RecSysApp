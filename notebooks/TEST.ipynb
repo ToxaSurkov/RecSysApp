{
 "cells": [
  {
   "cell_type": "code",
   "execution_count": 1,
   "id": "0e828f68-dc66-461a-8a5e-be05c7b230ff",
   "metadata": {},
   "outputs": [],
   "source": [
    "import polars as pl"
   ]
  },
  {
   "cell_type": "code",
   "execution_count": 9,
   "id": "ffc4c7a5-c921-4791-8a02-29d8408cb06d",
   "metadata": {},
   "outputs": [
    {
     "data": {
      "text/html": [
       "<div><style>\n",
       ".dataframe > thead > tr,\n",
       ".dataframe > tbody > tr {\n",
       "  text-align: right;\n",
       "  white-space: pre-wrap;\n",
       "}\n",
       "</style>\n",
       "<small>shape: (282_866, 1)</small><table border=\"1\" class=\"dataframe\"><thead><tr><th>names</th></tr><tr><td>str</td></tr></thead><tbody><tr><td>&quot;Аналитик данных\\BI-аналитик&quot;</td></tr><tr><td>&quot;Руководитель группы инженерии …</td></tr><tr><td>&quot;Аналитик данных&quot;</td></tr><tr><td>&quot;Главный аналитик по развитию о…</td></tr><tr><td>&quot;Инженер данных (Data engineer)&quot;</td></tr><tr><td>&hellip;</td></tr><tr><td>&quot;Экономист/Ведущий экономист (н…</td></tr><tr><td>&quot;Экономист по консолидации бюдж…</td></tr><tr><td>&quot;Ведущий специалист (отдел анал…</td></tr><tr><td>&quot;Ведущий экономист блока обязат…</td></tr><tr><td>&quot;Экономист&quot;</td></tr></tbody></table></div>"
      ],
      "text/plain": [
       "shape: (282_866, 1)\n",
       "┌─────────────────────────────────┐\n",
       "│ names                           │\n",
       "│ ---                             │\n",
       "│ str                             │\n",
       "╞═════════════════════════════════╡\n",
       "│ Аналитик данных\\BI-аналитик     │\n",
       "│ Руководитель группы инженерии … │\n",
       "│ Аналитик данных                 │\n",
       "│ Главный аналитик по развитию о… │\n",
       "│ Инженер данных (Data engineer)  │\n",
       "│ …                               │\n",
       "│ Экономист/Ведущий экономист (н… │\n",
       "│ Экономист по консолидации бюдж… │\n",
       "│ Ведущий специалист (отдел анал… │\n",
       "│ Ведущий экономист блока обязат… │\n",
       "│ Экономист                       │\n",
       "└─────────────────────────────────┘"
      ]
     },
     "execution_count": 9,
     "metadata": {},
     "output_type": "execute_result"
    }
   ],
   "source": [
    "df = pl.read_parquet(\"/Users/dl/GitHub/RecSysApp/data/Названия_вакансий_для_эмбеддингов_jina-embeddings-v3.parquet\")\n",
    "df"
   ]
  },
  {
   "cell_type": "code",
   "execution_count": 7,
   "id": "bace6d90-3f3c-46e0-9f17-a4e5a9427ea4",
   "metadata": {},
   "outputs": [],
   "source": [
    "df_name = df.drop([\"ID\",\"Description\", \"KeySkills\", \"ProfessionalRoles\"])"
   ]
  },
  {
   "cell_type": "code",
   "execution_count": 7,
   "id": "d753bddb-9e20-4ca7-9431-b2ee39751afc",
   "metadata": {},
   "outputs": [],
   "source": [
    "df = df.rename({\"Name\": \"names\"})"
   ]
  },
  {
   "cell_type": "code",
   "execution_count": 8,
   "id": "522dc6c4-1faa-4c4e-b0ef-07901d179f7a",
   "metadata": {},
   "outputs": [],
   "source": [
    "df.write_parquet(\"/Users/dl/GitHub/RecSysApp/data/Названия_вакансий_для_эмбеддингов_jina-embeddings-v3.parquet\")"
   ]
  },
  {
   "cell_type": "code",
   "execution_count": 46,
   "id": "17fb42e4-b54c-42bd-abac-1613ef28c603",
   "metadata": {},
   "outputs": [
    {
     "data": {
      "text/plain": [
       "282866"
      ]
     },
     "execution_count": 46,
     "metadata": {},
     "output_type": "execute_result"
    }
   ],
   "source": [
    "len(df[\"Name\"].to_list())"
   ]
  },
  {
   "cell_type": "code",
   "execution_count": 5,
   "id": "105b1e41-0315-4a10-bee4-f9a49e57c449",
   "metadata": {},
   "outputs": [],
   "source": [
    "df = df.unique(subset=[\"ID\", \"Name\", \"Description\", \"KeySkills\"], keep=\"first\", maintain_order=False)"
   ]
  },
  {
   "cell_type": "code",
   "execution_count": 6,
   "id": "f44fc009-6432-4214-941e-eba4bda2d97c",
   "metadata": {},
   "outputs": [
    {
     "data": {
      "text/html": [
       "<div><style>\n",
       ".dataframe > thead > tr,\n",
       ".dataframe > tbody > tr {\n",
       "  text-align: right;\n",
       "  white-space: pre-wrap;\n",
       "}\n",
       "</style>\n",
       "<small>shape: (282_866, 5)</small><table border=\"1\" class=\"dataframe\"><thead><tr><th>ID</th><th>Name</th><th>Description</th><th>KeySkills</th><th>ProfessionalRoles</th></tr><tr><td>i64</td><td>str</td><td>str</td><td>str</td><td>str</td></tr></thead><tbody><tr><td>105990106</td><td>&quot;Ведущий оператор 1С / Менеджер…</td><td>&quot;Бренд CHARUTTI - компания-прои…</td><td>&quot;1С: Управление Торговлей, Доку…</td><td>&quot;Менеджер по продажам, менеджер…</td></tr><tr><td>106006683</td><td>&quot;Инженер-испытатель&quot;</td><td>&quot;Обязанности: - сборка оборудов…</td><td>&quot;nan&quot;</td><td>&quot;Научный специалист, исследоват…</td></tr><tr><td>105809689</td><td>&quot;Ведущий инженер-программист&quot;</td><td>&quot;Обязанности:   Проведение анал…</td><td>&quot;nan&quot;</td><td>&quot;Программист, разработчик&quot;</td></tr><tr><td>104406501</td><td>&quot;Программист 1С&quot;</td><td>&quot;Уважаемый соискатель! Рады при…</td><td>&quot;1С программирование, Создание …</td><td>&quot;Программист, разработчик&quot;</td></tr><tr><td>105547594</td><td>&quot;Руководитель отдела продаж&quot;</td><td>&quot;BIZKIM — B2B платформа для про…</td><td>&quot;nan&quot;</td><td>&quot;Руководитель отдела продаж&quot;</td></tr><tr><td>&hellip;</td><td>&hellip;</td><td>&hellip;</td><td>&hellip;</td><td>&hellip;</td></tr><tr><td>104906752</td><td>&quot;Администратор (Фикс Прайс)&quot;</td><td>&quot;Присоединяйтесь к нашей команд…</td><td>&quot;Администрирование, Деловое общ…</td><td>&quot;Администратор&quot;</td></tr><tr><td>101072597</td><td>&quot;Продакт-менеджер / Менеджер по…</td><td>&quot;ASPECT – российский бренд с ка…</td><td>&quot;1С: Комплексная автоматизация,…</td><td>&quot;Менеджер продукта&quot;</td></tr><tr><td>105252999</td><td>&quot;Middle / Senior Разработчик Py…</td><td>&quot;Solar webProxy - шлюз веб-безо…</td><td>&quot;nan&quot;</td><td>&quot;Тестировщик&quot;</td></tr><tr><td>104544095</td><td>&quot;QA Engineer&quot;</td><td>&quot;Компания USETECH была основана…</td><td>&quot;nan&quot;</td><td>&quot;Тестировщик&quot;</td></tr><tr><td>104832139</td><td>&quot;Риск-менеджер&quot;</td><td>&quot;Что ты будешь делать:   Органи…</td><td>&quot;nan&quot;</td><td>&quot;Финансовый менеджер&quot;</td></tr></tbody></table></div>"
      ],
      "text/plain": [
       "shape: (282_866, 5)\n",
       "┌───────────┬─────────────────────┬─────────────────────┬─────────────────────┬────────────────────┐\n",
       "│ ID        ┆ Name                ┆ Description         ┆ KeySkills           ┆ ProfessionalRoles  │\n",
       "│ ---       ┆ ---                 ┆ ---                 ┆ ---                 ┆ ---                │\n",
       "│ i64       ┆ str                 ┆ str                 ┆ str                 ┆ str                │\n",
       "╞═══════════╪═════════════════════╪═════════════════════╪═════════════════════╪════════════════════╡\n",
       "│ 105990106 ┆ Ведущий оператор 1С ┆ Бренд CHARUTTI -    ┆ 1С: Управление      ┆ Менеджер по        │\n",
       "│           ┆ / Менеджер…         ┆ компания-прои…      ┆ Торговлей, Доку…    ┆ продажам,          │\n",
       "│           ┆                     ┆                     ┆                     ┆ менеджер…          │\n",
       "│ 106006683 ┆ Инженер-испытатель  ┆ Обязанности: -      ┆ nan                 ┆ Научный            │\n",
       "│           ┆                     ┆ сборка оборудов…    ┆                     ┆ специалист,        │\n",
       "│           ┆                     ┆                     ┆                     ┆ исследоват…        │\n",
       "│ 105809689 ┆ Ведущий             ┆ Обязанности:        ┆ nan                 ┆ Программист,       │\n",
       "│           ┆ инженер-программист ┆ Проведение анал…    ┆                     ┆ разработчик        │\n",
       "│ 104406501 ┆ Программист 1С      ┆ Уважаемый           ┆ 1С                  ┆ Программист,       │\n",
       "│           ┆                     ┆ соискатель! Рады    ┆ программирование,   ┆ разработчик        │\n",
       "│           ┆                     ┆ при…                ┆ Создание …          ┆                    │\n",
       "│ 105547594 ┆ Руководитель отдела ┆ BIZKIM — B2B        ┆ nan                 ┆ Руководитель       │\n",
       "│           ┆ продаж              ┆ платформа для про…  ┆                     ┆ отдела продаж      │\n",
       "│ …         ┆ …                   ┆ …                   ┆ …                   ┆ …                  │\n",
       "│ 104906752 ┆ Администратор (Фикс ┆ Присоединяйтесь к   ┆ Администрирование,  ┆ Администратор      │\n",
       "│           ┆ Прайс)              ┆ нашей команд…       ┆ Деловое общ…        ┆                    │\n",
       "│ 101072597 ┆ Продакт-менеджер /  ┆ ASPECT – российский ┆ 1С: Комплексная     ┆ Менеджер продукта  │\n",
       "│           ┆ Менеджер по…        ┆ бренд с ка…         ┆ автоматизация,…     ┆                    │\n",
       "│ 105252999 ┆ Middle / Senior     ┆ Solar webProxy -    ┆ nan                 ┆ Тестировщик        │\n",
       "│           ┆ Разработчик Py…     ┆ шлюз веб-безо…      ┆                     ┆                    │\n",
       "│ 104544095 ┆ QA Engineer         ┆ Компания USETECH    ┆ nan                 ┆ Тестировщик        │\n",
       "│           ┆                     ┆ была основана…      ┆                     ┆                    │\n",
       "│ 104832139 ┆ Риск-менеджер       ┆ Что ты будешь       ┆ nan                 ┆ Финансовый         │\n",
       "│           ┆                     ┆ делать:   Органи…   ┆                     ┆ менеджер           │\n",
       "└───────────┴─────────────────────┴─────────────────────┴─────────────────────┴────────────────────┘"
      ]
     },
     "execution_count": 6,
     "metadata": {},
     "output_type": "execute_result"
    }
   ],
   "source": [
    "df"
   ]
  },
  {
   "cell_type": "code",
   "execution_count": 14,
   "id": "c559f415-728a-48c9-80cd-1b2d9ebc2997",
   "metadata": {},
   "outputs": [],
   "source": [
    "df = df.sort(\n",
    "    by=[\"ID\", \"Name\"],\n",
    "    descending=[False, True],\n",
    "    multithreaded=True,\n",
    "    maintain_order=False,\n",
    ")"
   ]
  },
  {
   "cell_type": "code",
   "execution_count": 15,
   "id": "eee73771-b96a-4d2f-b250-8050d7852610",
   "metadata": {},
   "outputs": [
    {
     "data": {
      "text/html": [
       "<div><style>\n",
       ".dataframe > thead > tr,\n",
       ".dataframe > tbody > tr {\n",
       "  text-align: right;\n",
       "  white-space: pre-wrap;\n",
       "}\n",
       "</style>\n",
       "<small>shape: (282_866, 5)</small><table border=\"1\" class=\"dataframe\"><thead><tr><th>ID</th><th>Name</th><th>Description</th><th>KeySkills</th><th>ProfessionalRoles</th></tr><tr><td>i64</td><td>str</td><td>str</td><td>str</td><td>str</td></tr></thead><tbody><tr><td>13511263</td><td>&quot;Финансовый советник (Private B…</td><td>&quot;АТОН - старейшая инвестиционна…</td><td>&quot;nan&quot;</td><td>&quot;Менеджер по продажам, менеджер…</td></tr><tr><td>18330133</td><td>&quot;Агент по недвижимости (м Проле…</td><td>&quot;Компания ИНКОМ- Недвижимость у…</td><td>&quot;Поиск и привлечение клиентов, …</td><td>&quot;Агент по недвижимости&quot;</td></tr><tr><td>19608463</td><td>&quot;Финансовый советник (Private B…</td><td>&quot;АТОН - старейшая инвестиционна…</td><td>&quot;nan&quot;</td><td>&quot;Менеджер по продажам, менеджер…</td></tr><tr><td>20155035</td><td>&quot;Руководитель отдела продаж (Pr…</td><td>&quot;АТОН - старейшая инвестиционна…</td><td>&quot;nan&quot;</td><td>&quot;Руководитель отдела продаж&quot;</td></tr><tr><td>22354778</td><td>&quot;Специалист ломбарда&quot;</td><td>&quot;Мы - стабильная Федеральная ко…</td><td>&quot;nan&quot;</td><td>&quot;Кредитный специалист&quot;</td></tr><tr><td>&hellip;</td><td>&hellip;</td><td>&hellip;</td><td>&hellip;</td><td>&hellip;</td></tr><tr><td>106035829</td><td>&quot;Продавец на винное мороженое&quot;</td><td>&quot;Обязанности:  продажа эксклюзи…</td><td>&quot;Самоорганизованность,пунктуаль…</td><td>&quot;Другое&quot;</td></tr><tr><td>106035861</td><td>&quot;Юрисконсульт&quot;</td><td>&quot;Обязанности:  Работа в области…</td><td>&quot;Трудовое право, Консультирован…</td><td>&quot;Юрисконсульт&quot;</td></tr><tr><td>106035867</td><td>&quot;Носильщик / Bellman&quot;</td><td>&quot;Комплекс «LUCIANO» начал свою …</td><td>&quot;nan&quot;</td><td>&quot;Другое&quot;</td></tr><tr><td>106035965</td><td>&quot;Экономист&quot;</td><td>&quot;Одна из лидирующих компаний на…</td><td>&quot;Управленческая отчетность, 1:С…</td><td>&quot;Экономист&quot;</td></tr><tr><td>106036018</td><td>&quot;Менеджер в Консьерж сервис Янд…</td><td>&quot;Ultima - уникальная экосистема…</td><td>&quot;Административная поддержка рук…</td><td>&quot;Другое&quot;</td></tr></tbody></table></div>"
      ],
      "text/plain": [
       "shape: (282_866, 5)\n",
       "┌───────────┬─────────────────────┬─────────────────────┬─────────────────────┬────────────────────┐\n",
       "│ ID        ┆ Name                ┆ Description         ┆ KeySkills           ┆ ProfessionalRoles  │\n",
       "│ ---       ┆ ---                 ┆ ---                 ┆ ---                 ┆ ---                │\n",
       "│ i64       ┆ str                 ┆ str                 ┆ str                 ┆ str                │\n",
       "╞═══════════╪═════════════════════╪═════════════════════╪═════════════════════╪════════════════════╡\n",
       "│ 13511263  ┆ Финансовый советник ┆ АТОН - старейшая    ┆ nan                 ┆ Менеджер по        │\n",
       "│           ┆ (Private B…         ┆ инвестиционна…      ┆                     ┆ продажам,          │\n",
       "│           ┆                     ┆                     ┆                     ┆ менеджер…          │\n",
       "│ 18330133  ┆ Агент по            ┆ Компания ИНКОМ-     ┆ Поиск и привлечение ┆ Агент по           │\n",
       "│           ┆ недвижимости (м     ┆ Недвижимость у…     ┆ клиентов, …         ┆ недвижимости       │\n",
       "│           ┆ Проле…              ┆                     ┆                     ┆                    │\n",
       "│ 19608463  ┆ Финансовый советник ┆ АТОН - старейшая    ┆ nan                 ┆ Менеджер по        │\n",
       "│           ┆ (Private B…         ┆ инвестиционна…      ┆                     ┆ продажам,          │\n",
       "│           ┆                     ┆                     ┆                     ┆ менеджер…          │\n",
       "│ 20155035  ┆ Руководитель отдела ┆ АТОН - старейшая    ┆ nan                 ┆ Руководитель       │\n",
       "│           ┆ продаж (Pr…         ┆ инвестиционна…      ┆                     ┆ отдела продаж      │\n",
       "│ 22354778  ┆ Специалист ломбарда ┆ Мы - стабильная     ┆ nan                 ┆ Кредитный          │\n",
       "│           ┆                     ┆ Федеральная ко…     ┆                     ┆ специалист         │\n",
       "│ …         ┆ …                   ┆ …                   ┆ …                   ┆ …                  │\n",
       "│ 106035829 ┆ Продавец на винное  ┆ Обязанности:        ┆ Самоорганизованност ┆ Другое             │\n",
       "│           ┆ мороженое           ┆ продажа эксклюзи…   ┆ ь,пунктуаль…        ┆                    │\n",
       "│ 106035861 ┆ Юрисконсульт        ┆ Обязанности:        ┆ Трудовое право,     ┆ Юрисконсульт       │\n",
       "│           ┆                     ┆ Работа в области…   ┆ Консультирован…     ┆                    │\n",
       "│ 106035867 ┆ Носильщик / Bellman ┆ Комплекс «LUCIANO»  ┆ nan                 ┆ Другое             │\n",
       "│           ┆                     ┆ начал свою …        ┆                     ┆                    │\n",
       "│ 106035965 ┆ Экономист           ┆ Одна из лидирующих  ┆ Управленческая      ┆ Экономист          │\n",
       "│           ┆                     ┆ компаний на…        ┆ отчетность, 1:С…    ┆                    │\n",
       "│ 106036018 ┆ Менеджер в Консьерж ┆ Ultima - уникальная ┆ Административная    ┆ Другое             │\n",
       "│           ┆ сервис Янд…         ┆ экосистема…         ┆ поддержка рук…      ┆                    │\n",
       "└───────────┴─────────────────────┴─────────────────────┴─────────────────────┴────────────────────┘"
      ]
     },
     "execution_count": 15,
     "metadata": {},
     "output_type": "execute_result"
    }
   ],
   "source": [
    "df"
   ]
  },
  {
   "cell_type": "code",
   "execution_count": 20,
   "id": "2a15451d-823e-44bd-aae4-d2f10d88ff88",
   "metadata": {},
   "outputs": [],
   "source": [
    "df = df.drop(\"ID\")"
   ]
  },
  {
   "cell_type": "code",
   "execution_count": 24,
   "id": "025175f5-c718-4125-b887-f7176ad388bf",
   "metadata": {},
   "outputs": [],
   "source": [
    "full_info_cols = [\"Name\", \"Description\", \"KeySkills\", \"ProfessionalRoles\"]\n",
    "\n",
    "df = df.with_columns(\n",
    "    pl.concat_str(\n",
    "        [\n",
    "            pl.col(full_info_cols[0]).fill_null(\"\"),\n",
    "            pl.lit(\"\\n\"),\n",
    "            pl.col(full_info_cols[1]).fill_null(\"\"),\n",
    "            pl.lit(\"\\n\"),\n",
    "            pl.col(full_info_cols[2]).fill_null(\"\"),\n",
    "            pl.lit(\"\\n\"),\n",
    "            pl.col(full_info_cols[3]).fill_null(\"\"),\n",
    "        ]\n",
    "    ).alias(\"full_info\")\n",
    ")"
   ]
  },
  {
   "cell_type": "code",
   "execution_count": 28,
   "id": "e7e645f6-99b4-49b3-a81f-8a69232e9e06",
   "metadata": {},
   "outputs": [
    {
     "data": {
      "text/plain": [
       "'Финансовый советник (Private Banking)\\nАТОН - старейшая инвестиционная компания России.На протяжении вот уже 30 лет мы помогаем принимать верные инвестиционные решения и формируем сообщество успешных инвесторов.   Задачи:  Профессиональное сопровождение капиталов крупных частных/семейных клиентов; Установление отношений и привлечение новых крупных частных и корпоративных клиентов; Оказание консультационных услуг по вопросам защиты и сбережения личных активов; Консультирование по вопросам обслуживания в международных банках и юрисдикциях; Поддержание продолжительного сотрудничества и доверительных отношений с клиентами.  Что мы ждём:  Опыт работы с состоятельными частными клиентами в Private Banking российских и зарубежных банков; Владение инструментарием финансовых рынков (ДУ, структурные продукты, хедж-фонд, еврооблигации, западные рынки); Коммуникабельность, респектабельность; Желание и готовность много зарабатывать.  У нас:  Работа в одной из лучших команд инвестиционного рынка; Честный, открытый и профессиональный климат; Работа под брендом с безупречной репутацией на российском рынке и мировых финансовых площадках; Реализация сервисов и услуг ведущих мировых инвестиционно-банковских домов.  Что мы предлагаем:  Доход: высокий оклад + % (без потолка);   Медицинская страховка, оплата мобильной связи; Регулярное корпоративное обучение и повышение квалификации по продуктам и продажам; Перспективы профессионального и карьерного роста; Офис в центре Екатеринбурга (ул. Малышева); Условия и оформление на работу в полном соответствии с ТК РФ.  Что ценят наши сотрудники:  Наша компания – это место для реализации клиентских кейсов;  Уникальные на российском рынке инвестиционные продукты; Корпоративная культура, заточенная на бизнес и результат, дает нам возможность быстро расти и зарабатывать; Работа в команде профессионалов; Возможность стать Партнером компании и участвовать в решении стратегических вопросов;  «Главный актив – это люди»: премиальный соцпакет, поездки командами и обучение за счет компании. \\nnan\\nМенеджер по продажам, менеджер по работе с клиентами'"
      ]
     },
     "execution_count": 28,
     "metadata": {},
     "output_type": "execute_result"
    }
   ],
   "source": [
    "df[0][\"full_info\"][0]"
   ]
  },
  {
   "cell_type": "code",
   "execution_count": 30,
   "id": "69d4c9b7-b225-4184-ad0f-7913e4082ac6",
   "metadata": {},
   "outputs": [
    {
     "data": {
      "text/plain": [
       "['Name']"
      ]
     },
     "execution_count": 30,
     "metadata": {},
     "output_type": "execute_result"
    }
   ],
   "source": [
    "[\"Name\", \"Description\", \"KeySkills\", \"ProfessionalRoles\"][0:1]"
   ]
  },
  {
   "cell_type": "code",
   "execution_count": 35,
   "id": "e1091598-be57-491d-a2b0-abd8f1f67298",
   "metadata": {},
   "outputs": [
    {
     "data": {
      "text/html": [
       "<div><style>\n",
       ".dataframe > thead > tr,\n",
       ".dataframe > tbody > tr {\n",
       "  text-align: right;\n",
       "  white-space: pre-wrap;\n",
       "}\n",
       "</style>\n",
       "<small>shape: (15_643, 1)</small><table border=\"1\" class=\"dataframe\"><thead><tr><th>names</th></tr><tr><td>str</td></tr></thead><tbody><tr><td>&quot;Математический анализ с основа…</td></tr><tr><td>&quot;Реверсивная логистика&quot;</td></tr><tr><td>&quot;Проектный семинар &quot;Моделирован…</td></tr><tr><td>&quot;Дигитализация гуманитарного зн…</td></tr><tr><td>&quot;Научно-исследовательский семин…</td></tr><tr><td>&hellip;</td></tr><tr><td>&quot;Научно-исследовательский семин…</td></tr><tr><td>&quot;Введение в современную приклад…</td></tr><tr><td>&quot;Политология&quot;</td></tr><tr><td>&quot;Социальная статистика&quot;</td></tr><tr><td>&quot;Классический восточный язык (Я…</td></tr></tbody></table></div>"
      ],
      "text/plain": [
       "shape: (15_643, 1)\n",
       "┌─────────────────────────────────┐\n",
       "│ names                           │\n",
       "│ ---                             │\n",
       "│ str                             │\n",
       "╞═════════════════════════════════╡\n",
       "│ Математический анализ с основа… │\n",
       "│ Реверсивная логистика           │\n",
       "│ Проектный семинар \"Моделирован… │\n",
       "│ Дигитализация гуманитарного зн… │\n",
       "│ Научно-исследовательский семин… │\n",
       "│ …                               │\n",
       "│ Научно-исследовательский семин… │\n",
       "│ Введение в современную приклад… │\n",
       "│ Политология                     │\n",
       "│ Социальная статистика           │\n",
       "│ Классический восточный язык (Я… │\n",
       "└─────────────────────────────────┘"
      ]
     },
     "execution_count": 35,
     "metadata": {},
     "output_type": "execute_result"
    }
   ],
   "source": [
    "df = pl.read_parquet(\"/Users/dl/GitHub/RecSysApp/data/Названия_дисциплин_для_эмбеддингов_jina-embeddings-v3.parquet\")\n",
    "df"
   ]
  },
  {
   "cell_type": "code",
   "execution_count": 32,
   "id": "56ee992b-9856-4b11-8e4e-45c15e47c8fe",
   "metadata": {},
   "outputs": [],
   "source": [
    "df = df.unique(subset=[\"names\"], keep=\"first\", maintain_order=False)"
   ]
  },
  {
   "cell_type": "code",
   "execution_count": 33,
   "id": "152d5d76-8bdb-42ad-8b8e-31f1c5b8be21",
   "metadata": {},
   "outputs": [
    {
     "data": {
      "text/html": [
       "<div><style>\n",
       ".dataframe > thead > tr,\n",
       ".dataframe > tbody > tr {\n",
       "  text-align: right;\n",
       "  white-space: pre-wrap;\n",
       "}\n",
       "</style>\n",
       "<small>shape: (13_025, 1)</small><table border=\"1\" class=\"dataframe\"><thead><tr><th>names</th></tr><tr><td>str</td></tr></thead><tbody><tr><td>&quot;Методы демографического анализ…</td></tr><tr><td>&quot;История современного искусства&quot;</td></tr><tr><td>&quot;Научно-исследовательский семин…</td></tr><tr><td>&quot;Введение в программирование на…</td></tr><tr><td>&quot;Научно-исследовательский семин…</td></tr><tr><td>&hellip;</td></tr><tr><td>&quot;Коммуникации в цифровой среде&quot;</td></tr><tr><td>&quot;Медицинское право&quot;</td></tr><tr><td>&quot;Работа с визуальным контентом …</td></tr><tr><td>&quot;Язык современных медиа: от кан…</td></tr><tr><td>&quot;Научно-исследовательский семин…</td></tr></tbody></table></div>"
      ],
      "text/plain": [
       "shape: (13_025, 1)\n",
       "┌─────────────────────────────────┐\n",
       "│ names                           │\n",
       "│ ---                             │\n",
       "│ str                             │\n",
       "╞═════════════════════════════════╡\n",
       "│ Методы демографического анализ… │\n",
       "│ История современного искусства  │\n",
       "│ Научно-исследовательский семин… │\n",
       "│ Введение в программирование на… │\n",
       "│ Научно-исследовательский семин… │\n",
       "│ …                               │\n",
       "│ Коммуникации в цифровой среде   │\n",
       "│ Медицинское право               │\n",
       "│ Работа с визуальным контентом … │\n",
       "│ Язык современных медиа: от кан… │\n",
       "│ Научно-исследовательский семин… │\n",
       "└─────────────────────────────────┘"
      ]
     },
     "execution_count": 33,
     "metadata": {},
     "output_type": "execute_result"
    }
   ],
   "source": [
    "df"
   ]
  },
  {
   "cell_type": "code",
   "execution_count": 37,
   "id": "4db5a6b1-0376-4cbe-acfa-b74a8f475090",
   "metadata": {},
   "outputs": [],
   "source": [
    "from safetensors.torch import save_file, load_file\n",
    "\n",
    "embeddings = load_file(\"/Users/dl/GitHub/RecSysApp/data/ПУДы_эмбеддинги_jina-embeddings-v3.safetensors\")"
   ]
  },
  {
   "cell_type": "code",
   "execution_count": 38,
   "id": "c555eaa0-9e12-46f4-a011-6948a87078f5",
   "metadata": {},
   "outputs": [
    {
     "data": {
      "text/plain": [
       "{'embeddings': tensor([[ 0.0544,  0.0535,  0.1357,  ..., -0.0078,  0.0157,  0.0004],\n",
       "         [ 0.0369,  0.0044, -0.0417,  ..., -0.0278,  0.0281, -0.0256],\n",
       "         [ 0.0732,  0.0233,  0.0287,  ...,  0.0215,  0.0048,  0.0100],\n",
       "         ...,\n",
       "         [ 0.0742,  0.0090,  0.1099,  ...,  0.0566, -0.0250, -0.0400],\n",
       "         [ 0.0664, -0.0203,  0.0615,  ...,  0.0054,  0.0161, -0.0201],\n",
       "         [ 0.0962, -0.0571,  0.1572,  ..., -0.0089, -0.0006,  0.0035]],\n",
       "        dtype=torch.bfloat16)}"
      ]
     },
     "execution_count": 38,
     "metadata": {},
     "output_type": "execute_result"
    }
   ],
   "source": [
    "embeddings"
   ]
  },
  {
   "cell_type": "code",
   "execution_count": 39,
   "id": "8156d42a-b635-4063-9580-8aae288b43d4",
   "metadata": {},
   "outputs": [],
   "source": [
    "embeddings = load_file(\"/Users/dl/GitHub/RecSysApp/data/Вакансии_эмбединги_jina-embeddings-v3.safetensors\")"
   ]
  },
  {
   "cell_type": "code",
   "execution_count": 40,
   "id": "a453aee4-8780-4550-9801-b6a58e9b8c9d",
   "metadata": {},
   "outputs": [
    {
     "data": {
      "text/plain": [
       "{'embeddings': tensor([[ 0.0654, -0.1729,  0.0248,  ..., -0.0201, -0.0583, -0.0262],\n",
       "         [ 0.0742, -0.1914,  0.0559,  ...,  0.0016, -0.0503, -0.0182],\n",
       "         [ 0.0505, -0.1855, -0.0035,  ..., -0.0103, -0.0840, -0.0161],\n",
       "         ...,\n",
       "         [ 0.0464, -0.0603, -0.0013,  ...,  0.0096, -0.0649, -0.0007],\n",
       "         [ 0.0408, -0.1001, -0.0028,  ...,  0.0012, -0.0679, -0.0162],\n",
       "         [ 0.0859, -0.0659, -0.0095,  ...,  0.0081, -0.0728, -0.0322]],\n",
       "        dtype=torch.bfloat16)}"
      ]
     },
     "execution_count": 40,
     "metadata": {},
     "output_type": "execute_result"
    }
   ],
   "source": [
    "embeddings"
   ]
  },
  {
   "cell_type": "code",
   "execution_count": 43,
   "id": "282a00f5-65fb-402a-aee4-beb77442608b",
   "metadata": {},
   "outputs": [
    {
     "data": {
      "text/plain": [
       "282866"
      ]
     },
     "execution_count": 43,
     "metadata": {},
     "output_type": "execute_result"
    }
   ],
   "source": [
    "len(embeddings['embeddings'])"
   ]
  },
  {
   "cell_type": "code",
   "execution_count": null,
   "id": "06c70367-da72-4290-8b63-3c56a42d5647",
   "metadata": {},
   "outputs": [],
   "source": []
  }
 ],
 "metadata": {
  "kernelspec": {
   "display_name": "Python 3 (ipykernel)",
   "language": "python",
   "name": "python3"
  },
  "language_info": {
   "codemirror_mode": {
    "name": "ipython",
    "version": 3
   },
   "file_extension": ".py",
   "mimetype": "text/x-python",
   "name": "python",
   "nbconvert_exporter": "python",
   "pygments_lexer": "ipython3",
   "version": "3.12.7"
  }
 },
 "nbformat": 4,
 "nbformat_minor": 5
}
