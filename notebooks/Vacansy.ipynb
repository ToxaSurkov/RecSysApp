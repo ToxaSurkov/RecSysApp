{
 "cells": [
  {
   "cell_type": "code",
   "execution_count": 2,
   "id": "c8b83487-4514-468d-84b4-1c048d689265",
   "metadata": {},
   "outputs": [
    {
     "name": "stdout",
     "output_type": "stream",
     "text": [
      "Время выполнения: 952.293136 секунд\n"
     ]
    }
   ],
   "source": [
    "import torch\n",
    "from transformers import AutoTokenizer, AutoModel\n",
    "from scipy.spatial.distance import cosine\n",
    "import pandas as pd\n",
    "import numpy as np\n",
    "from collections import Counter\n",
    "import time\n",
    "\n",
    "\n",
    "def parse_embedding_from_str(str_emb):\n",
    "    emb = []\n",
    "    for part in str_emb.strip()[1:-1].split(\" \"):\n",
    "        fixed_part = part.strip()\n",
    "        if len(fixed_part) > 0:\n",
    "            emb.append(float(fixed_part))\n",
    "\n",
    "    return emb\n",
    "\n",
    "\n",
    "def load_embeddings(path):\n",
    "    df = pd.read_csv(path)\n",
    "    all_embs = []\n",
    "    all_key_skills = []\n",
    "    for _, row in df.iterrows():  # tqdm(df.embedding):\n",
    "        all_embs.append(parse_embedding_from_str(row[\"embedding\"]))\n",
    "        all_key_skills.append(eval(row[\"key_skills\"]))\n",
    "\n",
    "    df[\"embedding\"] = all_embs\n",
    "    df[\"key_skills\"] = all_key_skills\n",
    "\n",
    "    return df\n",
    "\n",
    "\n",
    "class EmbeddingExtractor:\n",
    "    def __init__(self, model, tokenizer, initial_df, similarity_metric=cosine):\n",
    "        self.embeddings = {}\n",
    "        self.model = model\n",
    "        self.tokenizer = tokenizer\n",
    "        self.similarity_metric = similarity_metric\n",
    "\n",
    "        self._initialize_embeddings(initial_df)\n",
    "\n",
    "    def _initialize_embeddings(self, initial_df):\n",
    "        for _, row in initial_df.iterrows():\n",
    "            name = row[\"name\"]\n",
    "            emb = row[\"embedding\"]\n",
    "\n",
    "            self.embeddings[name] = emb\n",
    "\n",
    "    def extract(self, text):\n",
    "        if text in self.embeddings:\n",
    "            return self.embeddings[text]\n",
    "\n",
    "        encoded_input = self.tokenizer(\n",
    "            [text], padding=True, truncation=True, max_length=64, return_tensors=\"pt\"\n",
    "        )\n",
    "        with torch.no_grad():\n",
    "            model_output = self.model(**encoded_input)\n",
    "        embedding = model_output.pooler_output[0].numpy().astype(np.float32)\n",
    "\n",
    "        self.embeddings[text] = embedding\n",
    "\n",
    "        return embedding\n",
    "\n",
    "    def extract_batch(self, texts):\n",
    "        encoded_input = self.tokenizer(\n",
    "            texts, padding=True, truncation=True, max_length=64, return_tensors=\"pt\"\n",
    "        )\n",
    "        with torch.no_grad():\n",
    "            model_output = self.model(**encoded_input)\n",
    "\n",
    "        for i in range(len(texts)):\n",
    "            text = texts[i]\n",
    "            embedding = model_output.pooler_output[i]\n",
    "\n",
    "            self.embeddings[text] = embedding\n",
    "\n",
    "    def similarity(self, emb1, emb2):\n",
    "        return 1 - self.similarity_metric(emb1, emb2)\n",
    "\n",
    "\n",
    "class VacancyFinder:\n",
    "    def __init__(self, embedding_extractor, initial_df):\n",
    "        self.embedding_extractor = embedding_extractor\n",
    "        self.titles = {}\n",
    "        self.vacancy_stats_by_title = {}\n",
    "\n",
    "        self._load_vacancies(initial_df)\n",
    "\n",
    "    def _load_vacancies(self, initial_df):\n",
    "        titles = list(set(initial_df.parent.values))\n",
    "\n",
    "        for title in titles:\n",
    "            self.titles[title] = self.embedding_extractor.extract(title)\n",
    "            self.vacancy_stats_by_title[title] = []\n",
    "            for _, row in initial_df.iterrows():\n",
    "                name = row[\"name\"]\n",
    "                key_skills = row[\"key_skills\"]\n",
    "                id_ = row[\"id\"]\n",
    "\n",
    "                self.vacancy_stats_by_title[title].append(\n",
    "                    [name, key_skills, id_, self.embedding_extractor.extract(name)]\n",
    "                )\n",
    "\n",
    "    def _select_best_titles(self, emb, amount):\n",
    "        stats = []\n",
    "        for title_name, title_emb in self.titles.items():\n",
    "            stats.append(\n",
    "                [\n",
    "                    title_name,\n",
    "                    title_emb,\n",
    "                    self.embedding_extractor.similarity(emb, title_emb),\n",
    "                ]\n",
    "            )\n",
    "\n",
    "        return sorted(stats, key=lambda x: -x[-1])[:amount]\n",
    "\n",
    "    def _select_best_vacancies(self, emb, titles, amount):\n",
    "        stats = []\n",
    "        for title in titles:\n",
    "            for (\n",
    "                vacancy_name,\n",
    "                key_skills,\n",
    "                vacancy_id,\n",
    "                vacancy_emb,\n",
    "            ) in self.vacancy_stats_by_title[title]:\n",
    "                stats.append(\n",
    "                    [\n",
    "                        vacancy_name,\n",
    "                        key_skills,\n",
    "                        vacancy_id,\n",
    "                        vacancy_emb,\n",
    "                        title,\n",
    "                        self.embedding_extractor.similarity(emb, vacancy_emb),\n",
    "                    ]\n",
    "                )\n",
    "\n",
    "        return sorted(stats, key=lambda x: -x[-1])[:amount]\n",
    "\n",
    "    def get_best_vacancies(self, vacancy_name, nearest_titles=3, amount=20):\n",
    "        emb = self.embedding_extractor.extract(vacancy_name)\n",
    "        titles = self._select_best_titles(emb, nearest_titles)\n",
    "        title_names = [title_name for title_name, _, _ in titles]\n",
    "\n",
    "        best_vacancies = self._select_best_vacancies(emb, title_names, amount)\n",
    "        return best_vacancies\n",
    "\n",
    "\n",
    "def aggregate_skills(all_skills):\n",
    "    skills_list = []\n",
    "    for key_skills in all_skills:\n",
    "        skills_list.extend(key_skills)\n",
    "\n",
    "    return Counter(skills_list)\n",
    "\n",
    "\n",
    "class SkillsExtractor:\n",
    "    def __init__(\n",
    "        self,\n",
    "        path_to_vacancies_info,\n",
    "        model_path=\"/Users/dl/GitHub/RecSysApp/models/LaBSE-en-ru\",\n",
    "        tokenizer_path=\"/Users/dl/GitHub/RecSysApp/models/LaBSE-en-ru\",\n",
    "    ):\n",
    "        tokenizer = AutoTokenizer.from_pretrained(tokenizer_path)\n",
    "        model = AutoModel.from_pretrained(model_path)\n",
    "        emb_df = load_embeddings(path_to_vacancies_info)\n",
    "        embedding_extractor = EmbeddingExtractor(model, tokenizer, emb_df)\n",
    "\n",
    "        self.vacancy_finder = VacancyFinder(embedding_extractor, emb_df)\n",
    "\n",
    "    def key_skills_for_profession(\n",
    "        self, profession, max_skills=100, min_frequency=3, nearest_vacancies=50\n",
    "    ):\n",
    "        all_key_skills = []\n",
    "        for _, key_skills, _, _, _, _ in self.vacancy_finder.get_best_vacancies(\n",
    "            profession, amount=nearest_vacancies\n",
    "        ):\n",
    "            all_key_skills.append(key_skills)\n",
    "\n",
    "        selected_skills = []\n",
    "        for name, amount in aggregate_skills(all_key_skills).most_common():\n",
    "            if len(selected_skills) >= max_skills or amount < min_frequency:\n",
    "                break\n",
    "            else:\n",
    "                selected_skills.append(name)\n",
    "\n",
    "        return selected_skills\n",
    "\n",
    "start_time = time.time()\n",
    "\n",
    "skills_extractor = SkillsExtractor(\n",
    "    path_to_vacancies_info=\"/Users/dl/GitHub/RecSysApp/data/Вакансии/Vacancy.csv\"\n",
    ")\n",
    "\n",
    "end_time = time.time()\n",
    "elapsed_time = end_time - start_time\n",
    "\n",
    "print(f\"Время выполнения: {elapsed_time:.6f} секунд\")"
   ]
  },
  {
   "cell_type": "code",
   "execution_count": 27,
   "id": "b9fc2b73-6fb0-45e4-b1d5-3790b06b1b57",
   "metadata": {},
   "outputs": [
    {
     "ename": "AttributeError",
     "evalue": "'SkillsExtractor' object has no attribute 'key_skills_for_profession'",
     "output_type": "error",
     "traceback": [
      "\u001b[0;31m---------------------------------------------------------------------------\u001b[0m",
      "\u001b[0;31mAttributeError\u001b[0m                            Traceback (most recent call last)",
      "Cell \u001b[0;32mIn[27], line 3\u001b[0m\n\u001b[1;32m      1\u001b[0m start_time \u001b[38;5;241m=\u001b[39m time\u001b[38;5;241m.\u001b[39mtime()\n\u001b[0;32m----> 3\u001b[0m sk \u001b[38;5;241m=\u001b[39m \u001b[43mskills_extractor\u001b[49m\u001b[38;5;241;43m.\u001b[39;49m\u001b[43mkey_skills_for_profession\u001b[49m(\u001b[38;5;124m\"\u001b[39m\u001b[38;5;124mПрограммист\u001b[39m\u001b[38;5;124m\"\u001b[39m)\n\u001b[1;32m      5\u001b[0m end_time \u001b[38;5;241m=\u001b[39m time\u001b[38;5;241m.\u001b[39mtime()\n\u001b[1;32m      6\u001b[0m elapsed_time \u001b[38;5;241m=\u001b[39m end_time \u001b[38;5;241m-\u001b[39m start_time\n",
      "\u001b[0;31mAttributeError\u001b[0m: 'SkillsExtractor' object has no attribute 'key_skills_for_profession'"
     ]
    }
   ],
   "source": [
    "start_time = time.time()\n",
    "\n",
    "sk = skills_extractor.key_skills_for_profession(\"Программист\")\n",
    "\n",
    "end_time = time.time()\n",
    "elapsed_time = end_time - start_time\n",
    "\n",
    "print(sk)\n",
    "\n",
    "print(f\"Время выполнения: {elapsed_time:.6f} секунд\")"
   ]
  },
  {
   "cell_type": "code",
   "execution_count": null,
   "id": "2eabd04d-186d-4a9f-a62d-a91efcf43841",
   "metadata": {},
   "outputs": [],
   "source": []
  },
  {
   "cell_type": "markdown",
   "id": "ac4cfa77-1825-4436-ad2a-3fb5c7a3b444",
   "metadata": {},
   "source": [
    "Время выполнения (до загрузки модели включительно): 0.193772 секунд\n",
    "\n",
    "Время выполнения (до чтения csv включительно): 11.957095 секунд\n",
    "key_skills = \"['Cisco', 'MikroTik', 'TCP/IP', 'Asterisk', 'CUCM']\" --- str\n",
    "embedding = '[ 3.10295783e-02 -7.58733869e-01 -1.50719807e-01  2.28532985' --- str\n",
    "\n",
    "Время выполнения (до преобразования key_skills и embedding в list включительно): 74.685128 секунд\n",
    "key_skills = ['Cisco', 'MikroTik', 'TCP/IP', 'Asterisk', 'CUCM'] --- list\n",
    "embedding = [0.0310295783, -0.758733869, -0.150719807, 0.228532985, ...] --- list\n",
    "\n",
    "Время выполнения (до преобразования получения словаря вакансия=эмбединги (схлопываются вакансии) включительно): 160.669755 секунд\n",
    "Было вакансий 164065 ---- стало 79399"
   ]
  },
  {
   "cell_type": "code",
   "execution_count": 1,
   "id": "c96d0c96-083c-4ae4-b8ca-bec62276c7de",
   "metadata": {},
   "outputs": [
    {
     "name": "stdout",
     "output_type": "stream",
     "text": [
      "Время выполнения: 99.992805 секунд\n"
     ]
    }
   ],
   "source": [
    "import torch\n",
    "from transformers import AutoTokenizer, AutoModel\n",
    "from scipy.spatial.distance import cosine\n",
    "import pandas as pd\n",
    "import numpy as np\n",
    "from collections import Counter\n",
    "import time\n",
    "\n",
    "def parse_embedding_from_str(str_emb):\n",
    "    emb = []\n",
    "    for part in str_emb.strip()[1:-1].split(\" \"):\n",
    "        fixed_part = part.strip()\n",
    "        if len(fixed_part) > 0:\n",
    "            emb.append(float(fixed_part))\n",
    "\n",
    "    return emb\n",
    "\n",
    "\n",
    "def load_embeddings(path):\n",
    "    df = pd.read_csv(path)\n",
    "    all_embs = []\n",
    "    all_key_skills = []\n",
    "    for _, row in df.iterrows():\n",
    "        all_embs.append(parse_embedding_from_str(row[\"embedding\"]))\n",
    "        all_key_skills.append(eval(row[\"key_skills\"]))\n",
    "\n",
    "    # Конвертер строк в списки\n",
    "    df[\"embedding\"] = all_embs\n",
    "    df[\"key_skills\"] = all_key_skills\n",
    "\n",
    "    return df\n",
    "\n",
    "\n",
    "class EmbeddingExtractor:\n",
    "    def __init__(self, model, tokenizer, initial_df, similarity_metric=cosine):\n",
    "        self.embeddings = {}\n",
    "        self.model = model\n",
    "        self.tokenizer = tokenizer\n",
    "        self.similarity_metric = similarity_metric\n",
    "\n",
    "        self._initialize_embeddings(initial_df)\n",
    "\n",
    "    def _initialize_embeddings(self, initial_df):\n",
    "        for _, row in initial_df.iterrows():\n",
    "            name = row[\"name\"]\n",
    "            emb = row[\"embedding\"]\n",
    "\n",
    "            # Словарь их название вакансии -> эмбединг\n",
    "            self.embeddings[name] = emb\n",
    "\n",
    "    def extract(self, text):\n",
    "        # Название группы совпадает с минимум одной вакансией\n",
    "        if text in self.embeddings:\n",
    "            return self.embeddings[text]\n",
    "\n",
    "        encoded_input = self.tokenizer(\n",
    "            [text], padding=True, truncation=True, max_length=64, return_tensors=\"pt\"\n",
    "        )\n",
    "        with torch.no_grad():\n",
    "            model_output = self.model(**encoded_input)\n",
    "        embedding = model_output.pooler_output[0].numpy().astype(np.float32)\n",
    "\n",
    "        # Добавление названия группы и ее эмбедингов в названия вакансий\n",
    "        self.embeddings[text] = embedding\n",
    "\n",
    "        return embedding\n",
    "\n",
    "\n",
    "class VacancyFinder:\n",
    "    def __init__(self, embedding_extractor, initial_df):\n",
    "        self.embedding_extractor = embedding_extractor\n",
    "        # Название группы вакансий -> ее эмбединги\n",
    "        self.titles = {}\n",
    "        self.vacancy_stats_by_title = {}\n",
    "\n",
    "        self._load_vacancies(initial_df)\n",
    "\n",
    "    def _load_vacancies(self, initial_df):\n",
    "        # Группы вакансий\n",
    "        titles = list(set(initial_df.parent.values))\n",
    "\n",
    "        # Проход по всем группам\n",
    "        for title in titles:\n",
    "            self.titles[title] = self.embedding_extractor.extract(title)\n",
    "\n",
    "\n",
    "class SkillsExtractor:\n",
    "    def __init__(\n",
    "        self,\n",
    "        path_to_vacancies_info,\n",
    "        model_path=\"/Users/dl/GitHub/RecSysApp/models/LaBSE-en-ru\",\n",
    "        tokenizer_path=\"/Users/dl/GitHub/RecSysApp/models/LaBSE-en-ru\",\n",
    "    ):\n",
    "        self.tokenizer = AutoTokenizer.from_pretrained(tokenizer_path)\n",
    "        self.model = AutoModel.from_pretrained(model_path)\n",
    "        self.emb_df = load_embeddings(path_to_vacancies_info)\n",
    "        self.embedding_extractor = EmbeddingExtractor(self.model, self.tokenizer, self.emb_df)\n",
    "\n",
    "        self.vacancy_finder = VacancyFinder(self.embedding_extractor, self.emb_df)\n",
    "\n",
    "start_time = time.time()\n",
    "\n",
    "skills_extractor = SkillsExtractor(\n",
    "    path_to_vacancies_info=\"/Users/dl/GitHub/RecSysApp/data/Вакансии/Vacancy.csv\"\n",
    ")\n",
    "\n",
    "end_time = time.time()\n",
    "elapsed_time = end_time - start_time\n",
    "\n",
    "print(f\"Время выполнения: {elapsed_time:.6f} секунд\")"
   ]
  },
  {
   "cell_type": "code",
   "execution_count": 3,
   "id": "21d71f3c-4b9f-4ea3-b556-b608d1bbe739",
   "metadata": {},
   "outputs": [
    {
     "data": {
      "text/plain": [
       "79444"
      ]
     },
     "execution_count": 3,
     "metadata": {},
     "output_type": "execute_result"
    }
   ],
   "source": [
    "len(skills_extractor.embedding_extractor.embeddings)"
   ]
  },
  {
   "cell_type": "code",
   "execution_count": 6,
   "id": "9a97e41c-446e-4f68-85c6-124fdbc4e998",
   "metadata": {},
   "outputs": [
    {
     "data": {
      "text/plain": [
       "768"
      ]
     },
     "execution_count": 6,
     "metadata": {},
     "output_type": "execute_result"
    }
   ],
   "source": [
    "len(skills_extractor.vacancy_finder.titles[\"Специалист по тендерам\"])"
   ]
  },
  {
   "cell_type": "code",
   "execution_count": 9,
   "id": "82c37456-c902-4cfe-937e-dddf6bcb19b4",
   "metadata": {},
   "outputs": [],
   "source": [
    "vacancy_stats_by_title = {}\n",
    "\n",
    "for title, v in skills_extractor.vacancy_finder.titles.items():\n",
    "    vacancy_stats_by_title[title] = []\n",
    "    for _, row in skills_extractor.emb_df.iterrows():\n",
    "        name = row[\"name\"]\n",
    "        key_skills = row[\"key_skills\"]\n",
    "        id_ = row[\"id\"]\n",
    "\n",
    "        vacancy_stats_by_title[title].append(\n",
    "            [name, key_skills, id_, skills_extractor.embedding_extractor.extract(name)]\n",
    "        )"
   ]
  },
  {
   "cell_type": "code",
   "execution_count": 20,
   "id": "6527dba1-f5a8-422c-8719-62560b0ac45c",
   "metadata": {},
   "outputs": [
    {
     "data": {
      "text/plain": [
       "99"
      ]
     },
     "execution_count": 20,
     "metadata": {},
     "output_type": "execute_result"
    }
   ],
   "source": [
    "len(vacancy_stats_by_title)"
   ]
  },
  {
   "cell_type": "code",
   "execution_count": 21,
   "id": "9209fe4f-1aeb-4ac6-b8ce-a8d16db55281",
   "metadata": {},
   "outputs": [
    {
     "data": {
      "text/plain": [
       "164065"
      ]
     },
     "execution_count": 21,
     "metadata": {},
     "output_type": "execute_result"
    }
   ],
   "source": [
    "len(vacancy_stats_by_title[\"Специалист по тендерам\"])"
   ]
  },
  {
   "cell_type": "code",
   "execution_count": 22,
   "id": "5638e163-77c3-41cc-bb11-2e63f12c1d27",
   "metadata": {},
   "outputs": [
    {
     "data": {
      "text/plain": [
       "4"
      ]
     },
     "execution_count": 22,
     "metadata": {},
     "output_type": "execute_result"
    }
   ],
   "source": [
    "len(vacancy_stats_by_title[\"Специалист по тендерам\"][0])"
   ]
  },
  {
   "cell_type": "code",
   "execution_count": 24,
   "id": "3f98bb11-fec0-475a-8598-cde1cf363dea",
   "metadata": {},
   "outputs": [
    {
     "data": {
      "text/plain": [
       "768"
      ]
     },
     "execution_count": 24,
     "metadata": {},
     "output_type": "execute_result"
    }
   ],
   "source": [
    "len(vacancy_stats_by_title[\"Специалист по тендерам\"][0][3])"
   ]
  },
  {
   "cell_type": "code",
   "execution_count": 27,
   "id": "52f3a29d-7aa6-49ef-a35d-04189ec22619",
   "metadata": {},
   "outputs": [
    {
     "data": {
      "text/plain": [
       "True"
      ]
     },
     "execution_count": 27,
     "metadata": {},
     "output_type": "execute_result"
    }
   ],
   "source": [
    "vacancy_stats_by_title[\"Аналитик\"] == vacancy_stats_by_title[\"Специалист по тендерам\"]"
   ]
  },
  {
   "cell_type": "code",
   "execution_count": null,
   "id": "0e0bc65c-1232-4206-bd99-7f103b70d0bf",
   "metadata": {},
   "outputs": [],
   "source": [
    "релевантность и полезность и видбек"
   ]
  },
  {
   "cell_type": "code",
   "execution_count": null,
   "id": "15d61cfd-356a-49d7-b35c-119f1e885b92",
   "metadata": {},
   "outputs": [],
   "source": []
  },
  {
   "cell_type": "code",
   "execution_count": null,
   "id": "87453396-147e-43d0-af7c-2b3819fd5770",
   "metadata": {},
   "outputs": [],
   "source": []
  },
  {
   "cell_type": "code",
   "execution_count": null,
   "id": "efa0ec92-10b4-4cc0-8506-20d076d481c7",
   "metadata": {},
   "outputs": [],
   "source": []
  },
  {
   "cell_type": "code",
   "execution_count": 89,
   "id": "df229fc1-e7a0-4ab4-917e-f28419252c02",
   "metadata": {},
   "outputs": [
    {
     "data": {
      "text/plain": [
       "dict"
      ]
     },
     "execution_count": 89,
     "metadata": {},
     "output_type": "execute_result"
    }
   ],
   "source": [
    "type(skills_extractor.embedding_extractor.embeddings)"
   ]
  },
  {
   "cell_type": "code",
   "execution_count": 104,
   "id": "68540af3-47e4-4788-a40f-1cd7616bfcd1",
   "metadata": {},
   "outputs": [
    {
     "name": "stdout",
     "output_type": "stream",
     "text": [
      "Время выполнения: 1.901957 секунд\n"
     ]
    }
   ],
   "source": [
    "class Timer(ContextDecorator):\n",
    "    \"\"\"Контекстный менеджер для замера времени выполнения кода.\"\"\"\n",
    "    def __enter__(self):\n",
    "        self.start = time.time()\n",
    "        return self\n",
    "\n",
    "    def __exit__(self, *args):\n",
    "        self.end = time.time()\n",
    "        print(f\"Время выполнения: {self.end - self.start:.6f} секунд\")\n",
    "\n",
    "class VacancyFinder:\n",
    "    def __init__(self, skills_extractor):\n",
    "        self.embedding_extractor = skills_extractor.embedding_extractor\n",
    "        self.titles = {} # Название группы и эмбединги\n",
    "        self.vacancy_stats_by_title = {}\n",
    "\n",
    "        self._load_vacancies(skills_extractor.emb_df)\n",
    "\n",
    "    def _load_vacancies(self, initial_df):\n",
    "        # код берет все значения столбца parent, удаляет дубликаты и возвращает их в виде списка уникальных значений\n",
    "        titles = list(set(initial_df.parent.values))\n",
    "\n",
    "        # Проходим по каждой группе вакансий\n",
    "        for title in titles:\n",
    "            self.titles[title] = extract(\n",
    "                title,\n",
    "                skills_extractor.embedding_extractor.embeddings,\n",
    "                skills_extractor.tokenizer,\n",
    "                skills_extractor.model\n",
    "            )\n",
    "\n",
    "with Timer():\n",
    "    vacancy_finder = VacancyFinder(skills_extractor)\n",
    "\n",
    "    # print(len(vacancy_finder.titles['Комплаенс-менеджер']))"
   ]
  },
  {
   "cell_type": "code",
   "execution_count": null,
   "id": "fd2f1b0f-1ce1-4cc3-a486-25f9009484ae",
   "metadata": {},
   "outputs": [],
   "source": [
    "skills_extractor.embedding_extractor.embeddings"
   ]
  },
  {
   "cell_type": "code",
   "execution_count": 102,
   "id": "da717cf1-1725-4955-ba8d-56cbb2471a3a",
   "metadata": {},
   "outputs": [
    {
     "data": {
      "text/plain": [
       "torch.Size([1, 8])"
      ]
     },
     "execution_count": 102,
     "metadata": {},
     "output_type": "execute_result"
    }
   ],
   "source": [
    "skills_extractor.tokenizer(\n",
    "    [\"Специалист по тендерам\"], padding = True, truncation = True, max_length = 64, return_tensors = \"pt\"\n",
    ")['token_type_ids']"
   ]
  },
  {
   "cell_type": "code",
   "execution_count": 105,
   "id": "803ae73c-0127-4860-bde5-4375be33a3e2",
   "metadata": {},
   "outputs": [
    {
     "data": {
      "text/plain": [
       "99"
      ]
     },
     "execution_count": 105,
     "metadata": {},
     "output_type": "execute_result"
    }
   ],
   "source": [
    "sum(1 for value in vacancy_finder.titles.values() if value is not None)"
   ]
  },
  {
   "cell_type": "code",
   "execution_count": 93,
   "id": "1e1f3185-5dff-43b0-af9f-d65c43c21a2c",
   "metadata": {},
   "outputs": [
    {
     "data": {
      "text/plain": [
       "768"
      ]
     },
     "execution_count": 93,
     "metadata": {},
     "output_type": "execute_result"
    }
   ],
   "source": [
    "len(skills_extractor.embedding_extractor.embeddings['Специалист по тендерам'])"
   ]
  },
  {
   "cell_type": "code",
   "execution_count": 81,
   "id": "c2344592-3434-4a91-8517-1d231087fb7f",
   "metadata": {},
   "outputs": [
    {
     "name": "stdout",
     "output_type": "stream",
     "text": [
      "['Комплаенс-менеджер', 'Руководитель отдела логистики', 'Системный инженер', 'Фотограф, ретушер', 'Бухгалтер', 'Геодезист', 'Менеджер ресторана', 'Бизнес-аналитик', 'Инженер по эксплуатации', 'Администратор', 'Арт-директор, креативный директор', 'Агент по недвижимости', 'Финансовый директор (CFO)', 'Видеооператор, видеомонтажер', 'Архитектор', 'Специалист по тендерам', 'Методолог', 'Менеджер продукта', 'Делопроизводитель, архивариус', 'Руководитель отдела аналитики', 'Менеджер по персоналу', 'Руководитель филиала', 'Юрист', 'Менеджер по туризму', 'Специалист по взысканию задолженности', 'Маркетолог-аналитик', 'Руководитель строительного проекта', 'Финансовый контролер', 'Технический писатель', 'Оператор ПК, оператор базы данных', 'BI-аналитик, аналитик данных', 'Координатор отдела продаж', 'Специалист по подбору персонала', 'Специалист службы безопасности', 'Менеджер по закупкам', 'Директор по информационным технологиям (CIO)', 'DevOps-инженер', 'Копирайтер, редактор, корректор', 'Дизайнер, художник', 'Системный аналитик', 'Системный администратор', 'Менеджер по маркетингу, интернет-маркетолог', 'Менеджер по продажам, менеджер по работе с клиентами', 'Специалист по кадрам', 'Инженер-энергетик, инженер-электрик', 'Руководитель отдела персонала', 'Руководитель отдела продаж', 'PR-менеджер', 'Операционный директор (COO)', 'Руководитель отдела клиентского обслуживания', 'Менеджер по работе с партнерами', 'Торговый представитель', 'Директор по маркетингу и PR (CMO)', 'SMM-менеджер, контент-менеджер', 'Финансовый аналитик, инвестиционный аналитик', 'Начальник производства', 'Аналитик', 'Финансовый менеджер', 'Продюсер', 'Менеджер%консультант по стратегии', 'Журналист, корреспондент', 'Режиссер, сценарист', 'Технический директор (CTO)', 'Юрисконсульт', 'Инженер по качеству', 'Главный инженер проекта', 'Программист, разработчик', 'Экономист', 'Научный специалист, исследователь', 'Руководитель группы разработки', 'Инженер-конструктор, инженер-проектировщик', 'Инженер ПНР', 'Инженер по охране труда и технике безопасности, инженер-эколог', 'Специалист технической поддержки', 'Директор по персоналу (HRD)', 'Коммерческий директор (CCO)', 'Сетевой инженер', 'Секретарь, помощник руководителя, ассистент', 'Руководитель отдела маркетинга и рекламы', 'Генеральный директор, исполнительный директор (CEO)', 'Менеджер%руководитель АХО', 'Геолог', 'Переводчик', 'Дата-сайентист', 'Менеджер по компенсациям и льготам', 'Менеджер по логистике, менеджер по ВЭД', 'Специалист по информационной безопасности', 'Руководитель проектов', 'Инженер-электроник, инженер-электронщик', 'Другое', 'Гейм-дизайнер', 'Брокер', 'Тестировщик', 'Event-менеджер', 'Аудитор', 'Страховой агент', 'Кредитный специалист', 'Директор юридического департамента (CLO)', 'Продуктовый аналитик']\n"
     ]
    }
   ],
   "source": [
    "print(list(set(skills_extractor.emb_df.parent.values)))"
   ]
  },
  {
   "cell_type": "code",
   "execution_count": 58,
   "id": "c2c14a3f-8c20-4364-9aa2-2cf5780678f0",
   "metadata": {},
   "outputs": [
    {
     "data": {
      "text/plain": [
       "79399"
      ]
     },
     "execution_count": 58,
     "metadata": {},
     "output_type": "execute_result"
    }
   ],
   "source": [
    "len(skills_extractor.embedding_extractor.embeddings)"
   ]
  },
  {
   "cell_type": "code",
   "execution_count": 59,
   "id": "5c80a40c-f391-4fa4-bca1-819ebb516233",
   "metadata": {},
   "outputs": [
    {
     "data": {
      "text/plain": [
       "164065"
      ]
     },
     "execution_count": 59,
     "metadata": {},
     "output_type": "execute_result"
    }
   ],
   "source": [
    "len(skills_extractor.emb_df)"
   ]
  },
  {
   "cell_type": "code",
   "execution_count": 46,
   "id": "bbabaecd-1f4e-45f0-abaf-f19842038535",
   "metadata": {},
   "outputs": [
    {
     "data": {
      "text/plain": [
       "['Cisco', 'MikroTik', 'TCP/IP', 'Asterisk', 'CUCM']"
      ]
     },
     "execution_count": 46,
     "metadata": {},
     "output_type": "execute_result"
    }
   ],
   "source": [
    "skills_extractor.emb_df['key_skills'][0]"
   ]
  },
  {
   "cell_type": "code",
   "execution_count": 47,
   "id": "1f6e0e08-f529-4b9e-9551-941349356601",
   "metadata": {},
   "outputs": [
    {
     "data": {
      "text/plain": [
       "[0.0310295783,\n",
       " -0.758733869,\n",
       " -0.150719807,\n",
       " 0.228532985,\n",
       " -0.397263587,\n",
       " -0.403417349,\n",
       " -0.455173582,\n",
       " -0.0370771214,\n",
       " 0.0684766769,\n",
       " -0.228751957]"
      ]
     },
     "execution_count": 47,
     "metadata": {},
     "output_type": "execute_result"
    }
   ],
   "source": [
    "skills_extractor.emb_df['embedding'][0][:10]"
   ]
  },
  {
   "cell_type": "code",
   "execution_count": 82,
   "id": "6f74cf51-5907-478b-80aa-918964528e1e",
   "metadata": {},
   "outputs": [
    {
     "ename": "AttributeError",
     "evalue": "'SkillsExtractor' object has no attribute 'vacancies'",
     "output_type": "error",
     "traceback": [
      "\u001b[0;31m---------------------------------------------------------------------------\u001b[0m",
      "\u001b[0;31mAttributeError\u001b[0m                            Traceback (most recent call last)",
      "Cell \u001b[0;32mIn[82], line 1\u001b[0m\n\u001b[0;32m----> 1\u001b[0m \u001b[43mskills_extractor\u001b[49m\u001b[38;5;241;43m.\u001b[39;49m\u001b[43mvacancies\u001b[49m\u001b[38;5;241m.\u001b[39mselect(\u001b[38;5;124m\"\u001b[39m\u001b[38;5;124mparent\u001b[39m\u001b[38;5;124m\"\u001b[39m)\u001b[38;5;241m.\u001b[39munique()\u001b[38;5;241m.\u001b[39mto_list()\n",
      "\u001b[0;31mAttributeError\u001b[0m: 'SkillsExtractor' object has no attribute 'vacancies'"
     ]
    }
   ],
   "source": [
    "skills_extractor.vacancies.select(\"parent\").unique().to_list()"
   ]
  },
  {
   "cell_type": "code",
   "execution_count": null,
   "id": "00e1c992-df2b-4b87-90fa-db8ef6fdb5d6",
   "metadata": {},
   "outputs": [],
   "source": []
  }
 ],
 "metadata": {
  "kernelspec": {
   "display_name": "Python 3 (ipykernel)",
   "language": "python",
   "name": "python3"
  },
  "language_info": {
   "codemirror_mode": {
    "name": "ipython",
    "version": 3
   },
   "file_extension": ".py",
   "mimetype": "text/x-python",
   "name": "python",
   "nbconvert_exporter": "python",
   "pygments_lexer": "ipython3",
   "version": "3.12.7"
  }
 },
 "nbformat": 4,
 "nbformat_minor": 5
}
